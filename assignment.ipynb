{
 "cells": [
  {
   "cell_type": "code",
   "execution_count": 12,
   "metadata": {},
   "outputs": [
    {
     "name": "stdout",
     "output_type": "stream",
     "text": [
      "3 is the oldest one\n"
     ]
    }
   ],
   "source": [
    "# 1.\tUser will input (3 ages).Find the oldest one\n",
    "\n",
    "x,y,z=input(\"Write the three ages:\").split()\n",
    "if(x>y and x>z):\n",
    "    print(x+' is the oldest one.'.format(x))\n",
    "elif(y>z and y>x):\n",
    "    print(y+' is the oldest age'.format(y))\n",
    "else:\n",
    "    print(z+' is the oldest age'.format(z))     \n",
    "\n",
    "\n",
    "# Alternative way\n",
    "\n",
    "a,b,c=input('Give the age of the three students').split()\n",
    "\n",
    "print(max(a,b,c)+' is the oldest one')\n",
    "\n"
   ]
  },
  {
   "cell_type": "code",
   "execution_count": 28,
   "metadata": {},
   "outputs": [
    {
     "name": "stdout",
     "output_type": "stream",
     "text": [
      "104.0 is the temperature in Fahrenheit scale.\n"
     ]
    }
   ],
   "source": [
    "# 2.Write a program that will convert celsius value to fahrenheit\n",
    "\n",
    "def celsius_to_fareh(celsius):\n",
    "    fareh=32+float(celsius)*(9/5)\n",
    "    print(f'{fareh} is the temperature in Fahrenheit scale.')\n",
    "\n",
    "celsius=input('Enter the temperature in Celsius')\n",
    "celsius_to_fareh(celsius)    "
   ]
  },
  {
   "cell_type": "code",
   "execution_count": 40,
   "metadata": {},
   "outputs": [
    {
     "name": "stdout",
     "output_type": "stream",
     "text": [
      "Value of a before swapping is: 56\n",
      "Value of b before swapping is : 67\n",
      "Value of a after swapping  is: 67\n",
      "Value of b after swapping  is: 56\n"
     ]
    }
   ],
   "source": [
    "# 3.User will input (2numbers).Write a program to swap the numbers\n",
    "\n",
    "a,b=map(int,input('Enter the two numbers').split())\n",
    "print(f'Value of a before swapping is: {a}')\n",
    "print(f'Value of b before swapping is : {b}')\n",
    "\n",
    "def swap(a,b):\n",
    "    a=a+b\n",
    "    b=a-b\n",
    "    a=a-b\n",
    "    print(f'Value of a after swapping  is: {a}')\n",
    "    print(f'Value of b after swapping  is: {b}')\n",
    "\n",
    "swap(int(a),int(b))    "
   ]
  },
  {
   "cell_type": "code",
   "execution_count": 46,
   "metadata": {},
   "outputs": [
    {
     "data": {
      "text/plain": [
       "11"
      ]
     },
     "execution_count": 46,
     "metadata": {},
     "output_type": "execute_result"
    }
   ],
   "source": [
    "# 4.Write a program that will give you the sum of 3 digits\n",
    "\n",
    "x=input(\"Enter ant 3 digit number:\")\n",
    "def sum_of_digits(x):\n",
    "    soln=sum(int(digits) for digits in x)\n",
    "    return soln\n",
    "sum_of_digits(x)  \n"
   ]
  },
  {
   "cell_type": "code",
   "execution_count": 81,
   "metadata": {},
   "outputs": [
    {
     "data": {
      "text/plain": [
       "54321"
      ]
     },
     "execution_count": 81,
     "metadata": {},
     "output_type": "execute_result"
    }
   ],
   "source": [
    "# 5.Write a program that will reverse a four digit number.Also it checks whether the reverse is true.\n",
    "\n",
    "x=input('Enter the number:')\n",
    "def reverse_num(x):\n",
    "    reversed=sum(int(x[digits])*pow(10,digits) for digits in range(len(x)))\n",
    "    return reversed\n",
    "\n",
    "reverse_num(x)"
   ]
  },
  {
   "cell_type": "code",
   "execution_count": 84,
   "metadata": {},
   "outputs": [
    {
     "name": "stdout",
     "output_type": "stream",
     "text": [
      "5678 is an even number\n"
     ]
    }
   ],
   "source": [
    "# 6.Write a program that will tell whether the number entered by the user is odd or even.\n",
    "\n",
    "num1=int(input('Enter any random number'))\n",
    "\n",
    "if (num1%2==0):\n",
    "    print(f'{num1} is an even number')\n",
    "\n",
    "else:\n",
    "    print(f'{num1} is an odd number')    "
   ]
  },
  {
   "cell_type": "code",
   "execution_count": 86,
   "metadata": {},
   "outputs": [
    {
     "name": "stdout",
     "output_type": "stream",
     "text": [
      "2013 is not a leap year\n"
     ]
    }
   ],
   "source": [
    "# 7.Write a program that will tell whether the given year is a leap year or not.\n",
    "year=int(input('Enter the year:'))\n",
    "if(year%4==0):\n",
    "    print(f'{year} is a leap year.')\n",
    "else:\n",
    "    print(f'{year} is not a leap year')    \n"
   ]
  },
  {
   "cell_type": "code",
   "execution_count": 92,
   "metadata": {},
   "outputs": [
    {
     "name": "stdout",
     "output_type": "stream",
     "text": [
      "2.8284271247461903\n"
     ]
    }
   ],
   "source": [
    "# 8.Write a program to find the euclidean distance between two coordinates.\n",
    "\n",
    "x1,y1=map(int,input('Enter the first coordinate points:').split())\n",
    "x2,y2=map(int,input('Enter the second coordinate points:').split())\n",
    "\n",
    "dist=pow(pow(x2-x1,2)+pow(y2-y1,2),0.5)\n",
    "print(dist)"
   ]
  },
  {
   "cell_type": "code",
   "execution_count": 96,
   "metadata": {},
   "outputs": [
    {
     "name": "stdout",
     "output_type": "stream",
     "text": [
      "The triangles cannot be formed.\n"
     ]
    }
   ],
   "source": [
    "# 9.Write a program that take a user input of three angles and will find out whether it can form a triangle or not.\n",
    "\n",
    "x,y,z=map(int,input('Enter the three angles of triangles:').split())\n",
    "if(x+y+z==180):\n",
    "    print('The given angles forms the triangles.')\n",
    "else:\n",
    "    print('The triangles cannot be formed.')"
   ]
  },
  {
   "cell_type": "code",
   "execution_count": 98,
   "metadata": {},
   "outputs": [
    {
     "name": "stdout",
     "output_type": "stream",
     "text": [
      "Profit\n"
     ]
    }
   ],
   "source": [
    "# 10.Write a program that will take user input of cost price and selling price and determines whether its a loss or a profit\n",
    "CP,SP=map(int,input('enter the Cost Price and Selling Price respectively.').split())\n",
    "if(CP>SP):\n",
    "    print(\"LOSS\")\n",
    "else:\n",
    "    print(\"Profit\")    "
   ]
  },
  {
   "cell_type": "code",
   "execution_count": 100,
   "metadata": {},
   "outputs": [
    {
     "name": "stdout",
     "output_type": "stream",
     "text": [
      "The Simple Interest is :20.4\n"
     ]
    }
   ],
   "source": [
    "# 11.Write a program to find the simple interest when the value of principle,rate of interest and time period is given.\n",
    "\n",
    "P,T,R=map(float,input('Enter the Principle,Time and Rate:').split())\n",
    "SI=P*T*R/100\n",
    "print(f'The Simple Interest is :{SI}')"
   ]
  },
  {
   "cell_type": "code",
   "execution_count": 106,
   "metadata": {},
   "outputs": [
    {
     "name": "stdout",
     "output_type": "stream",
     "text": [
      "The Volume of the cylinder is :37.68\n",
      "The cost of the milk is:1507.2\n"
     ]
    }
   ],
   "source": [
    "# 12.Write a program to find the volume of the cylinder. Also find the cost when ,when the cost of 1litre milk is 40Rs.\n",
    "\n",
    "radius,height=map(int,input(\"Enter the radius and height of the cylinder\").split())\n",
    "vol=3.14*pow(radius,2)*height\n",
    "print(f'The Volume of the cylinder is :{vol}')\n",
    "print(f'The cost of the milk is:{vol*40}')"
   ]
  },
  {
   "cell_type": "code",
   "execution_count": 109,
   "metadata": {},
   "outputs": [
    {
     "name": "stdout",
     "output_type": "stream",
     "text": [
      "The number is not divisible by 3 and 6\n"
     ]
    }
   ],
   "source": [
    "# 13.Write  a program that will tell whether the given number is divisible by 3 & 6.\n",
    "\n",
    "x=int(input(\"Enter any random number\"))\n",
    "if(x%3==0 and x%6==0):\n",
    "    print('The number is divisible by 3 and 6 ')\n",
    "else:\n",
    "    print('The number is not divisible by 3 and 6')    "
   ]
  },
  {
   "cell_type": "code",
   "execution_count": null,
   "metadata": {},
   "outputs": [],
   "source": []
  },
  {
   "cell_type": "code",
   "execution_count": null,
   "metadata": {},
   "outputs": [],
   "source": []
  },
  {
   "cell_type": "code",
   "execution_count": 111,
   "metadata": {},
   "outputs": [
    {
     "name": "stdout",
     "output_type": "stream",
     "text": [
      "Hot\n"
     ]
    }
   ],
   "source": [
    "# #16.\tWrite a program that will determine weather when the value of temperature and humidity is provided by the user.\n",
    "# TEMPERATURE(C)      HUMIDITY(%)      WEATHER\n",
    "\n",
    "#       >= 30                             >=90                Hot and Humid\n",
    "#       >= 30                             < 90                 Hot\n",
    "#       <30                                >= 90               Cool and Humid\n",
    "#       <30                                 <90                 Cool\n",
    "\n",
    "\n",
    "temp,humid=map(int,input('Enter the temperature and the humidity').split())\n",
    "if(temp>=30 and humid>=90):\n",
    "    print('Hot and Humid')\n",
    "elif(temp>=30 and humid<90):\n",
    "    print('Hot')\n",
    "elif(temp<30 and humid>=90):\n",
    "    print('Cool and Humid')\n",
    "elif(temp<30 and humid<90):\n",
    "     print('Cool')         "
   ]
  },
  {
   "cell_type": "code",
   "execution_count": 113,
   "metadata": {},
   "outputs": [
    {
     "name": "stdout",
     "output_type": "stream",
     "text": [
      "The Sum of square  the digits is:14\n"
     ]
    }
   ],
   "source": [
    "# 17.Write a program that will take three digits from the user and add the square of each digit.\n",
    "\n",
    "x,y,z=map(int,input(\"Enter the three digits\").split())\n",
    "sum=x**2+y**2+z**2\n",
    "print(f'The Sum of square  the digits is:{sum}')"
   ]
  },
  {
   "cell_type": "code",
   "execution_count": 2,
   "metadata": {},
   "outputs": [
    {
     "name": "stdout",
     "output_type": "stream",
     "text": [
      "The number is Armstrong\n"
     ]
    }
   ],
   "source": [
    "# 18.Write a program that will check whether the number is armstrong number or not.\n",
    "\n",
    "num=input('Enter the number')\n",
    "\n",
    "def check_armstrong(num):\n",
    "    arm_num=sum(pow(int(x),len(num)) for x in num)\n",
    "    if(arm_num==int(num)):\n",
    "        print('The number is Armstrong')\n",
    "    else:\n",
    "        print('The number is not Armstrong')  \n",
    "\n",
    "check_armstrong(num)\n"
   ]
  },
  {
   "cell_type": "code",
   "execution_count": 9,
   "metadata": {},
   "outputs": [
    {
     "name": "stdout",
     "output_type": "stream",
     "text": [
      "1.Centimeter to ft\n",
      "2.kilometer to miles\n",
      "3.USD to INR\n",
      "The Conversion is :72.42050240516535\n"
     ]
    }
   ],
   "source": [
    "print('1.Centimeter to ft')\n",
    "print('2.kilometer to miles')\n",
    "print('3.USD to INR')\n",
    "choose=input('Choose the conversion you want:')\n",
    "\n",
    "def cm_to_feet(x):\n",
    "    ft=float(x)*1/30.48\n",
    "    return ft \n",
    "\n",
    "def km_to_miles(x):\n",
    "    miles=float(x)*1/0.621371\n",
    "    return miles\n",
    "\n",
    "def usd_to_inr(x):\n",
    "    inr=float(x)*80     \n",
    "    return inr\n",
    "\n",
    "if(choose=='1'):\n",
    "    x=input('Enter the data')\n",
    "    print(f'The Conversion is :{cm_to_feet(x)}')\n",
    "    \n",
    "elif(choose=='2'):\n",
    "    x=input('Enter the data')\n",
    "    print(f'The Conversion is :{km_to_miles(x)}')\n",
    "   \n",
    "elif(choose=='3'):\n",
    "    x=input('Enter the data')\n",
    "    print(f'The Conversion is :{usd_to_inr(x)}')\n",
    "    \n"
   ]
  },
  {
   "cell_type": "code",
   "execution_count": 18,
   "metadata": {},
   "outputs": [
    {
     "name": "stdout",
     "output_type": "stream",
     "text": [
      "The number of hens and dogs are:(22, 1)\n"
     ]
    }
   ],
   "source": [
    "# 22.Write a program that will tell the number of dogs and chicken are there when the user will provide the value of total heads and legs\n",
    "\n",
    "heads,legs=map(int,input('Enter the number of heads and legs:').split())\n",
    "\n",
    "def find_animal(heads,legs):\n",
    "    dogs = (legs - 2 * heads) // 2 \n",
    "    hens = heads - dogs\n",
    "    if hens>=0 and dogs>=0 and 2*hens+4*dogs==legs:\n",
    "           return hens,dogs\n",
    "    else:\n",
    "          return 'Invalid Credientals'\n",
    "\n",
    "h,d=find_animal(heads,legs)\n",
    "\n",
    "print(f\"The number of hens and dogs are:{h,d}\")\n"
   ]
  },
  {
   "cell_type": "code",
   "execution_count": 21,
   "metadata": {},
   "outputs": [
    {
     "name": "stdout",
     "output_type": "stream",
     "text": [
      "Values before swappings is :(3456, 6533)\n",
      "values after swapping is :(6533, 3456)\n"
     ]
    }
   ],
   "source": [
    "# 23.Write a program that will swap numbers\n",
    "\n",
    "a,b=map(int,input('Enter the two numbers').split())\n",
    "print(f'Values before swappings is :{a,b}')\n",
    "def swap_num(a,b):\n",
    "    a=a+b\n",
    "    b=a-b\n",
    "    a=a-b\n",
    "    return a,b\n",
    "print(f'values after swapping is :{swap_num(a,b)}')"
   ]
  },
  {
   "cell_type": "code",
   "execution_count": 26,
   "metadata": {},
   "outputs": [
    {
     "name": "stdout",
     "output_type": "stream",
     "text": [
      "The sum of the first n numbers is :7626\n"
     ]
    }
   ],
   "source": [
    "# 24.Write a program to find the sum of first n numbers, where n will be provided by the user. Eg if the user provides n=10 the output should be 55.\n",
    "\n",
    "num=int(input('Enter the first n numbers:'))\n",
    "sum=0\n",
    "for i in range(num+1):\n",
    "    sum=sum+i\n",
    "print(f\"The sum of the first n numbers is :{sum}\")    "
   ]
  },
  {
   "cell_type": "code",
   "execution_count": 50,
   "metadata": {},
   "outputs": [
    {
     "name": "stdout",
     "output_type": "stream",
     "text": [
      "The product is :42\n"
     ]
    }
   ],
   "source": [
    "# 25.Write a program that can multiply 2 numbers provided by the user without using the * operator\n",
    "\n",
    "a,b=map(int,input('Enter the two numbers you want to multiply').split())\n",
    "product=0\n",
    "for i in range(b if b>0 else -b):\n",
    "    product=product+a\n",
    "print(f'The product is :{product if b>0 else -product}')    "
   ]
  },
  {
   "cell_type": "code",
   "execution_count": 55,
   "metadata": {},
   "outputs": [
    {
     "name": "stdout",
     "output_type": "stream",
     "text": [
      "The Factorial of the number is: 120\n"
     ]
    }
   ],
   "source": [
    "# 26.Write a program that can find the factorial of a given number provided by the user.\n",
    "\n",
    "num=int(input('Enter the Number'))\n",
    "def fact(num):\n",
    "    if num==1 or num==0:\n",
    "        return 1\n",
    "    else:\n",
    "         return num*fact(num-1)\n",
    "\n",
    "print(f'The Factorial of the number is: {fact(num)}')"
   ]
  },
  {
   "cell_type": "code",
   "execution_count": 65,
   "metadata": {},
   "outputs": [
    {
     "name": "stdout",
     "output_type": "stream",
     "text": [
      "The Sum is:64\n"
     ]
    }
   ],
   "source": [
    "# 27.Write a program to print the first 25 odd numbers\n",
    "\n",
    "num=int(input(\"Enter the first n number:\"))\n",
    "sum=0\n",
    "for i in range(1,num*2+1,2):\n",
    "    sum=sum+i\n",
    "print(f'The Sum is:{sum}')    "
   ]
  },
  {
   "cell_type": "code",
   "execution_count": 89,
   "metadata": {},
   "outputs": [
    {
     "name": "stdout",
     "output_type": "stream",
     "text": [
      "7 is Prime\n"
     ]
    }
   ],
   "source": [
    "# 28.Write a program to print whether a given number is prime number or not\n",
    "import math\n",
    "a=int(input(\"Enter the number you want to check\"))\n",
    "def is_prime(a):\n",
    "    for i in range(2,math.floor(a**0.5)+1):\n",
    "        if(a%i==0):\n",
    "            return f'{a} is Not Prime'\n",
    "    print(f\"{a} is Prime\")\n",
    "is_prime(a)       "
   ]
  },
  {
   "cell_type": "code",
   "execution_count": 20,
   "metadata": {},
   "outputs": [
    {
     "name": "stdout",
     "output_type": "stream",
     "text": [
      "0\n",
      "1\n",
      "2\n",
      "3\n",
      "4\n",
      "5\n",
      "6\n",
      "7\n",
      "8\n",
      "9\n",
      "153\n",
      "370\n",
      "371\n",
      "407\n",
      "1634\n",
      "8208\n",
      "9474\n",
      "54748\n",
      "92727\n",
      "93084\n"
     ]
    }
   ],
   "source": [
    "# 29.Print all the armstrong numbers in the range of 100 to 1000\n",
    "ran=int(input(\"Enter the upper limit of the range\"))\n",
    "for i in range(ran+1):\n",
    "    arms=sum(pow(int(x),len(str(i))) for x in str(i))\n",
    "    if i==arms:\n",
    "        print(i)"
   ]
  },
  {
   "cell_type": "code",
   "execution_count": 25,
   "metadata": {},
   "outputs": [
    {
     "name": "stdout",
     "output_type": "stream",
     "text": [
      "Initial Population=10000\n",
      "9th year=9000\n",
      "8th year=8100\n",
      "7th year=7290\n",
      "6th year=6561\n",
      "5th year=5905\n",
      "4th year=5315\n",
      "3th year=4783\n",
      "2th year=4305\n",
      "1th year=3875\n"
     ]
    }
   ],
   "source": [
    "#30.The current population of a town is 10000. The population of the town is increasing at the rate of 10% per year. You have to write a program to find out the population at the end of each of the last 10 years. For eg current population is 10000 so the output should be like this:\n",
    "# 10th year - 10000\n",
    "# 9th year - 9000\n",
    "# 8th year - 8100 and so on\n",
    "import math\n",
    "popn=10000\n",
    "print(f'Initial Population={popn}')\n",
    "for i in range(9,0,-1):\n",
    "    popn=popn-0.1*popn\n",
    "    print(f'{i}th year={math.ceil(popn)}')"
   ]
  },
  {
   "cell_type": "code",
   "execution_count": 39,
   "metadata": {},
   "outputs": [
    {
     "name": "stdout",
     "output_type": "stream",
     "text": [
      "(1,)\n",
      "(2,)\n",
      "(3,)\n",
      "(4,)\n",
      "(1, 2)\n",
      "(1, 3)\n",
      "(1, 4)\n",
      "(2, 3)\n",
      "(2, 4)\n",
      "(3, 4)\n",
      "(1, 2, 3)\n",
      "(1, 2, 4)\n",
      "(1, 3, 4)\n",
      "(2, 3, 4)\n",
      "(1, 2, 3, 4)\n"
     ]
    }
   ],
   "source": [
    "# 31.Write a program to print all the unique combinations of 1,2,3 and 4\n",
    "\n",
    "import itertools\n",
    "\n",
    "numbs=[1,2,3,4]\n",
    "\n",
    "for x in range(1,len(numbs)+1):\n",
    "    combination=itertools.combinations(numbs,x)\n",
    "    for combs in combination:\n",
    "        print(combs)  \n",
    "     \n"
   ]
  },
  {
   "cell_type": "code",
   "execution_count": 45,
   "metadata": {},
   "outputs": [
    {
     "name": "stdout",
     "output_type": "stream",
     "text": [
      "The LCM of the numbers are:1440.0\n",
      "The HCF of the numbers are:1\n"
     ]
    }
   ],
   "source": [
    "# 32.User will provide 2 numbers you have to find the HCF of those 2 numbers\n",
    "\n",
    "a,b=map(int,input(\"Enter the two numbers\").split())\n",
    "\n",
    "def hcf(a,b):\n",
    "    while b!=0:\n",
    "        a,b=b,a%b\n",
    "    return a \n",
    "\n",
    "def lcm(a,b):\n",
    "    return (a*b)/hcf(a,b)\n",
    "    \n",
    "print(f'The LCM of the numbers are:{lcm(a,b)}')\n",
    "print(f'The HCF of the numbers are:{hcf(a,b)}')   "
   ]
  },
  {
   "cell_type": "code",
   "execution_count": 69,
   "metadata": {},
   "outputs": [
    {
     "name": "stdout",
     "output_type": "stream",
     "text": [
      "0\n",
      "1\n",
      "2\n",
      "3\n",
      "5\n",
      "7\n",
      "11\n",
      "13\n",
      "17\n",
      "19\n",
      "23\n",
      "29\n",
      "31\n",
      "37\n",
      "41\n",
      "43\n",
      "47\n",
      "53\n",
      "59\n",
      "61\n",
      "67\n",
      "71\n",
      "73\n",
      "79\n",
      "83\n",
      "89\n",
      "97\n",
      "101\n"
     ]
    }
   ],
   "source": [
    "# 34.Print first 25 prime numbers\n",
    "x=int(input('Enter the upper limit of the range.'))\n",
    "for x in range(x+1):\n",
    "    if(is_prime(x)):\n",
    "        print(x)\n",
    "def is_prime(num):\n",
    "    for i in range(2,num):\n",
    "        if(num%i==0):\n",
    "            return False\n",
    "    return True      "
   ]
  },
  {
   "cell_type": "code",
   "execution_count": 3,
   "metadata": {},
   "outputs": [
    {
     "name": "stdout",
     "output_type": "stream",
     "text": [
      "0\n",
      "1\n",
      "1\n",
      "2\n",
      "3\n",
      "5\n",
      "8\n",
      "13\n",
      "21\n",
      "34\n",
      "55\n",
      "89\n",
      "144\n",
      "233\n",
      "377\n",
      "610\n",
      "987\n",
      "1597\n",
      "2584\n",
      "4181\n",
      "6765\n",
      "10946\n",
      "17711\n",
      "28657\n",
      "46368\n",
      "75025\n"
     ]
    }
   ],
   "source": [
    "# 35.Print the first 20 numbers of a Fibonacci series\n",
    "x=int(input('Enter the upper limit of the series'))\n",
    "fibo_list=[0,1]\n",
    "def fibo(x):\n",
    "    for i in range(1,x):\n",
    "        fibo_list.append(fibo_list[i]+fibo_list[i-1])\n",
    "fibo(x)\n",
    "for i in fibo_list:\n",
    "    print(i)\n"
   ]
  },
  {
   "cell_type": "code",
   "execution_count": 6,
   "metadata": {},
   "outputs": [
    {
     "name": "stdout",
     "output_type": "stream",
     "text": [
      "The Compound Interest is :480.2442849183444\n"
     ]
    }
   ],
   "source": [
    "# 36.Write a program to find the compound interest \n",
    "P,T,R=map(int,input('Enter Principal, Time and Rate of interest').split())\n",
    "CA=P*pow(1+R*0.01,T)\n",
    "CI=CA-P\n",
    "print(f'The Compound Interest is :{CI}')"
   ]
  },
  {
   "cell_type": "code",
   "execution_count": 22,
   "metadata": {},
   "outputs": [
    {
     "name": "stdout",
     "output_type": "stream",
     "text": [
      "615\n"
     ]
    }
   ],
   "source": [
    "# 37.Write a Python program that accepts an integer (n) and computes the value of n+nn+nnn.\n",
    "\n",
    "x=int(input('Enter the value of n'))\n",
    "sum=int(str(x))+int(str(x)*2)+int(str(x)*3)\n",
    "print(sum)"
   ]
  },
  {
   "cell_type": "code",
   "execution_count": 29,
   "metadata": {},
   "outputs": [
    {
     "name": "stdout",
     "output_type": "stream",
     "text": [
      "3\n",
      "2\n",
      "1\n"
     ]
    }
   ],
   "source": [
    "# 38.Take a number from the user and find the number of digits in it.\n",
    "import math\n",
    "x=int(input('Enter the number:'))\n",
    "y=x\n",
    "for i in range(len(str(x))):\n",
    "    print(y%10)\n",
    "    y=math.floor(y/10)\n"
   ]
  },
  {
   "cell_type": "code",
   "execution_count": 36,
   "metadata": {},
   "outputs": [
    {
     "name": "stdout",
     "output_type": "stream",
     "text": [
      "1\n",
      "2\n",
      "17\n",
      "34\n",
      "167\n",
      "334\n",
      "2839\n",
      "5678\n"
     ]
    }
   ],
   "source": [
    "# 39.Print all factors of a given number provided by the user.\n",
    "x=int(input('Enter the number'))\n",
    "factor_list=[]\n",
    "for i in range(1,x+1):\n",
    "    if(x%i==0):\n",
    "        factor_list.append(i)\n",
    "for i in factor_list:\n",
    "    print(i)       "
   ]
  },
  {
   "cell_type": "code",
   "execution_count": 4,
   "metadata": {},
   "outputs": [
    {
     "name": "stdout",
     "output_type": "stream",
     "text": [
      "87654321\n"
     ]
    }
   ],
   "source": [
    "# 40.Find the reverse of a number provided by the user(any number of digit) \n",
    "\n",
    "x=int(input('Enter the number:'))\n",
    "reversed_num=sum(int(str(x)[i])*pow(10,i) for i in range(len(str(x))))\n",
    "print(reversed_num)\n"
   ]
  },
  {
   "cell_type": "code",
   "execution_count": 8,
   "metadata": {},
   "outputs": [
    {
     "name": "stdout",
     "output_type": "stream",
     "text": [
      "\n",
      "*\n",
      "**\n",
      "***\n",
      "****\n",
      "*****\n",
      "******\n",
      "*******\n",
      "********\n"
     ]
    }
   ],
   "source": [
    "# 41.\tWrite a program to print the following pattern\n",
    "# *\n",
    "# **\n",
    "# ***\n",
    "# ****\n",
    "# *****\n",
    "\n",
    "x=int(input('Enter the number of rows of the pattern'))\n",
    "for i in range(x+1):\n",
    "    print('*'*i)\n",
    "\n"
   ]
  },
  {
   "cell_type": "code",
   "execution_count": 13,
   "metadata": {},
   "outputs": [
    {
     "name": "stdout",
     "output_type": "stream",
     "text": [
      "\n",
      "*\n",
      "**\n",
      "***\n",
      "****\n",
      "*****\n",
      "******\n",
      "*******\n",
      "******\n",
      "*****\n",
      "****\n",
      "***\n",
      "**\n",
      "*\n"
     ]
    }
   ],
   "source": [
    "# 42.\tWrite a program to print the following pattern\n",
    "# *\n",
    "# **\n",
    "# ***\n",
    "# **\n",
    "# *\n",
    "x=int(input('Enter the rows of the pattern'))\n",
    "for i in range(x):\n",
    "    print('*'*i)  \n",
    "for i in range(x,0,-1):\n",
    "    print('*'*i)   "
   ]
  },
  {
   "cell_type": "code",
   "execution_count": 29,
   "metadata": {},
   "outputs": [
    {
     "name": "stdout",
     "output_type": "stream",
     "text": [
      "                * \n",
      "              * * * \n",
      "            * * * * * \n",
      "          * * * * * * * \n",
      "        * * * * * * * * * \n",
      "      * * * * * * * * * * * \n",
      "    * * * * * * * * * * * * * \n",
      "  * * * * * * * * * * * * * * * \n"
     ]
    }
   ],
   "source": [
    "# 43.\tWrite  a program to print the following pattern\n",
    "#         *\n",
    "#       * * *\n",
    "#     * * * * *\n",
    "#    * * * * * * *\n",
    "# * * * * * * * * *\n",
    "\n",
    "x=int(input('Enter the number of rows in the pattern'))\n",
    "for i in range(x):\n",
    "    print(\"  \"*(x-i)+'* '*(2*i+1))\n",
    "   \n"
   ]
  },
  {
   "cell_type": "code",
   "execution_count": 49,
   "metadata": {},
   "outputs": [
    {
     "name": "stdout",
     "output_type": "stream",
     "text": [
      "1 \n",
      "1 2 1 \n",
      "1 2 3 1 2 \n",
      "1 2 3 4 1 2 3 \n",
      "1 2 3 4 5 1 2 3 4 \n",
      "1 2 3 4 5 6 1 2 3 4 5 \n",
      "1 2 3 4 5 6 7 1 2 3 4 5 6 \n",
      "1 2 3 4 5 6 7 8 1 2 3 4 5 6 7 \n"
     ]
    }
   ],
   "source": [
    "# 44.\tWrite a program to print the following pattern\n",
    "# 1\n",
    "# 1 2 1\n",
    "# 1 2 3 2 1\n",
    "# 1 2 3 4 3 2 1\n",
    "# 1 2 3 4 5 4 3 2 1\n",
    "\n",
    "x=int(input('Enter the number of rows in the pattern'))\n",
    "for i in range(x):\n",
    "    for j in range(2*i+1):\n",
    "        if(j<=i):\n",
    "               print(j+1,end=' ')\n",
    "        else:\n",
    "             print(j-i,end=' ')   \n",
    "    print()"
   ]
  },
  {
   "cell_type": "code",
   "execution_count": 77,
   "metadata": {},
   "outputs": [
    {
     "name": "stdout",
     "output_type": "stream",
     "text": [
      "1 \n",
      "2 3 \n",
      "4 5 6 \n",
      "7 8 9 10 \n",
      "11 12 13 14 15 \n",
      "16 17 18 19 20 21 \n",
      "22 23 24 25 26 27 28 \n"
     ]
    }
   ],
   "source": [
    "# 45.\tWrite a program to print the following pattern\n",
    "# 1\n",
    "# 2 3\n",
    "# 4 5 6\n",
    "# 7 8 9 10\n",
    "\n",
    "x=int(input('Enter the number of rows of the pattern'))\n",
    "num=1\n",
    "for i in range(x):\n",
    "    for j in range(i+1):\n",
    "        print(num,end=' ')\n",
    "        num=num+1\n",
    "    print()\n"
   ]
  },
  {
   "cell_type": "code",
   "execution_count": 93,
   "metadata": {},
   "outputs": [
    {
     "name": "stdout",
     "output_type": "stream",
     "text": [
      "2.5\n"
     ]
    }
   ],
   "source": [
    "# 46.\tWrite a program to calculate the sum of the following series till the nth term\n",
    "# 1/1! + 2/2! + 3/3! + 4/4! +…….+ n/n!\n",
    "# n will be provided by the user\n",
    "x=int(input('Enter the value of n'))\n",
    "fact=1\n",
    "sum=0\n",
    "for i in range(1,x+1):\n",
    "    fact=fact*i\n",
    "    sum=sum+(i/fact)\n",
    "print(sum)\n",
    "\n"
   ]
  },
  {
   "cell_type": "code",
   "execution_count": 106,
   "metadata": {},
   "outputs": [
    {
     "name": "stdout",
     "output_type": "stream",
     "text": [
      "3.0\n"
     ]
    }
   ],
   "source": [
    "# 47.\tWrite a Python Program to Find the Sum of the Series till the nth term: \n",
    "# 1 + x^2/2 + x^3/3 + … x^n/n\n",
    "# n will be provided by the user\n",
    "\n",
    "n=int(input('Enter the value of n'))\n",
    "sum=1\n",
    "for i in range(2,n+1):\n",
    "    sum=sum+(pow(2,i))/(i)\n",
    "print(sum)    \n",
    "\n",
    "\n"
   ]
  },
  {
   "cell_type": "code",
   "execution_count": 108,
   "metadata": {},
   "outputs": [
    {
     "name": "stdout",
     "output_type": "stream",
     "text": [
      "0.53125\n"
     ]
    }
   ],
   "source": [
    "# 48.The natural logarithm can be approximated by the following series.\n",
    " \n",
    "# If x is input through the keyboard, write a program to calculate the sum of the first seven terms of this series.\n",
    "\n",
    "term=(1-1/2)\n",
    "x=int(input('Enter the value of n'))\n",
    "for i in range(2,x+1):\n",
    "    sum=term+0.5*pow(term,i)\n",
    "print(sum)    \n"
   ]
  },
  {
   "cell_type": "code",
   "execution_count": 7,
   "metadata": {},
   "outputs": [
    {
     "name": "stdout",
     "output_type": "stream",
     "text": [
      "Sum=24\n",
      "Average=4.0\n"
     ]
    }
   ],
   "source": [
    "# Write a program that keeps on accepting a number from the user until the user enters Zero. Display the sum and average of all the numbers.\n",
    "number=[]\n",
    "while True:\n",
    "    num=int(input('Enter the number(or 0 to exit)'))\n",
    "    if num==0:\n",
    "        break\n",
    "    number.append(num)\n",
    "\n",
    "addition=sum(number)\n",
    "count=len(number)\n",
    "print(f'Sum={addition}')\n",
    "print(f'Average={addition/count}')   \n",
    "  \n",
    "\n",
    "\n",
    "\n"
   ]
  },
  {
   "cell_type": "code",
   "execution_count": 18,
   "metadata": {},
   "outputs": [
    {
     "name": "stdout",
     "output_type": "stream",
     "text": [
      "2.0/3.0\n"
     ]
    }
   ],
   "source": [
    "# 50.\tWrite a program that accepts 2 numbers from the user a numerator and a denominator and then simplifies it\n",
    "# Eg if the num = 5, den = 15 the answer should be ⅓\n",
    "# Eg if the num = 6, den = 9 the answer should be ⅔\n",
    "\n",
    "nume,deno=map(int,input('Enter the numerator and denominator part of the fraction').split())\n",
    "def hcf(a,b):\n",
    "    while b!=0:\n",
    "        a,b=b,a%b\n",
    "    return a     \n",
    "\n",
    "if deno==0:\n",
    "    print('Denominator cannot be zero')\n",
    "else:\n",
    "   print(f'{nume/hcf(nume,deno)}/{deno/hcf(nume,deno)}')\n"
   ]
  },
  {
   "cell_type": "code",
   "execution_count": 20,
   "metadata": {},
   "outputs": [
    {
     "name": "stdout",
     "output_type": "stream",
     "text": [
      "Length of the string is:24\n"
     ]
    }
   ],
   "source": [
    "# 51.Find the length of a given string without using the len() function. \n",
    "\n",
    "word=input('Enter the string')\n",
    "counter=0\n",
    "for i in word:\n",
    "    counter=counter+1\n",
    "print('Length of the string is:{}'.format(counter))"
   ]
  },
  {
   "cell_type": "code",
   "execution_count": 25,
   "metadata": {},
   "outputs": [
    {
     "name": "stdout",
     "output_type": "stream",
     "text": [
      "The username is :nitish24singh\n"
     ]
    }
   ],
   "source": [
    "# 52.\tExtract username from a given email. \n",
    "# Eg if the email is nitish24singh@gmail.com then the username should be nitish24singh\n",
    "\n",
    "email_input=input('Enter the email address')\n",
    "index=email_input.find('@')\n",
    "print('The username is :{}'.format(email_input[:index]))"
   ]
  },
  {
   "cell_type": "code",
   "execution_count": 28,
   "metadata": {},
   "outputs": [
    {
     "name": "stdout",
     "output_type": "stream",
     "text": [
      "The frequency of r in given string is:4\n"
     ]
    }
   ],
   "source": [
    "# 53.Count the frequency of a particular character in a provided string. Eg 'hello how are you' is the string, the frequency of h in this string is 2.\n",
    "\n",
    "name_string=input(\"Enter the string\")\n",
    "particular_char=input('Enter the char you want to count.')\n",
    "print('The frequency of {} in given string is:{}'.format(particular_char,name_string.count(particular_char)))\n"
   ]
  },
  {
   "cell_type": "code",
   "execution_count": 31,
   "metadata": {},
   "outputs": [
    {
     "name": "stdout",
     "output_type": "stream",
     "text": [
      "The vowels in the string are:7\n"
     ]
    }
   ],
   "source": [
    "# 55.Count the number of vowels in a string provided by the user.\n",
    "\n",
    "name_string=input('Enter the string')\n",
    "def count_vowels(string):\n",
    "    return sum(char.lower() in 'aeiou' for char in string)\n",
    "\n",
    "print(f'The vowels in the string are:{count_vowels(name_string)}')"
   ]
  },
  {
   "cell_type": "code",
   "execution_count": 40,
   "metadata": {},
   "outputs": [
    {
     "data": {
      "text/plain": [
       "'M name is rijna pokhrel. I read in class qwert'"
      ]
     },
     "execution_count": 40,
     "metadata": {},
     "output_type": "execute_result"
    }
   ],
   "source": [
    "# 56.Write a program which can remove a particular character from a string.\n",
    "str_input=input('Enter the string') \n",
    "particular_char=input('Enter the character you want to remove')\n",
    "str_input.replace(particular_char,'')"
   ]
  },
  {
   "cell_type": "code",
   "execution_count": 56,
   "metadata": {},
   "outputs": [
    {
     "data": {
      "text/plain": [
       "'Not Palindrome'"
      ]
     },
     "execution_count": 56,
     "metadata": {},
     "output_type": "execute_result"
    }
   ],
   "source": [
    "# 57.Write a program that can check whether a given string is palindrome or not.\n",
    "str_input=input('Enter the String')\n",
    "def check_palindrome(str_input):\n",
    "    if(len(str_input)<2):\n",
    "         return 'Palindrome'\n",
    "    if(str_input[0]==str_input[-1]):\n",
    "         return check_palindrome(str_input[1:-1])\n",
    "    else:\n",
    "         return 'Not Palindrome'   \n",
    "check_palindrome(str_input)    "
   ]
  },
  {
   "cell_type": "code",
   "execution_count": null,
   "metadata": {},
   "outputs": [],
   "source": []
  },
  {
   "cell_type": "code",
   "execution_count": null,
   "metadata": {},
   "outputs": [],
   "source": []
  },
  {
   "cell_type": "code",
   "execution_count": null,
   "metadata": {},
   "outputs": [],
   "source": []
  },
  {
   "cell_type": "code",
   "execution_count": null,
   "metadata": {},
   "outputs": [],
   "source": []
  },
  {
   "cell_type": "code",
   "execution_count": null,
   "metadata": {},
   "outputs": [],
   "source": []
  },
  {
   "cell_type": "code",
   "execution_count": null,
   "metadata": {},
   "outputs": [],
   "source": []
  },
  {
   "cell_type": "code",
   "execution_count": null,
   "metadata": {},
   "outputs": [],
   "source": []
  },
  {
   "cell_type": "code",
   "execution_count": null,
   "metadata": {},
   "outputs": [],
   "source": []
  },
  {
   "cell_type": "code",
   "execution_count": null,
   "metadata": {},
   "outputs": [],
   "source": []
  },
  {
   "cell_type": "code",
   "execution_count": null,
   "metadata": {},
   "outputs": [],
   "source": []
  },
  {
   "cell_type": "code",
   "execution_count": null,
   "metadata": {},
   "outputs": [],
   "source": []
  },
  {
   "cell_type": "code",
   "execution_count": null,
   "metadata": {},
   "outputs": [],
   "source": []
  },
  {
   "cell_type": "code",
   "execution_count": null,
   "metadata": {},
   "outputs": [],
   "source": []
  }
 ],
 "metadata": {
  "kernelspec": {
   "display_name": "Python 3",
   "language": "python",
   "name": "python3"
  },
  "language_info": {
   "codemirror_mode": {
    "name": "ipython",
    "version": 3
   },
   "file_extension": ".py",
   "mimetype": "text/x-python",
   "name": "python",
   "nbconvert_exporter": "python",
   "pygments_lexer": "ipython3",
   "version": "3.12.2"
  }
 },
 "nbformat": 4,
 "nbformat_minor": 2
}
