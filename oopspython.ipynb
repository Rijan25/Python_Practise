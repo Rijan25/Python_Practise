{
 "cells": [
  {
   "cell_type": "code",
   "execution_count": 1,
   "metadata": {},
   "outputs": [],
   "source": [
    "# This is the beginning of the object oriented concept in python."
   ]
  },
  {
   "cell_type": "code",
   "execution_count": null,
   "metadata": {},
   "outputs": [],
   "source": [
    "# Class ko name should be pascal case(ThisIsPascalCase)\n",
    "# Class vitra ko memeber ra func ko snake case (Snake_case)"
   ]
  },
  {
   "cell_type": "code",
   "execution_count": null,
   "metadata": {},
   "outputs": [],
   "source": [
    "# Types of methods in python\n",
    "# 1.Magic Methods: init haru , aagdi paxadi underscore hunx , cant be called by an object \n",
    "# 2.Special Methods:\n",
    "# 3.Dunder Method"
   ]
  },
  {
   "cell_type": "code",
   "execution_count": null,
   "metadata": {},
   "outputs": [],
   "source": [
    "# Instance variables are those whose value is different for every object created. It is created inside the constructor.\n",
    "# Static/Class variables are those whose value is same for every object created. It is created above/outside of the constructor.\n",
    "\n",
    "# Static variables are shared across all instances of a class and belong to the class itself.\n",
    "# Static methods do not require an instance of the class to operate and are bound to the class, not its instances."
   ]
  },
  {
   "cell_type": "code",
   "execution_count": 112,
   "metadata": {},
   "outputs": [],
   "source": [
    "class Atm:\n",
    "\n",
    "    __counter=1\n",
    "\n",
    "    def __init__(self):\n",
    "         self.__pin=''\n",
    "         self.__balance=0\n",
    "         self.sno=Atm.__counter\n",
    "         Atm. __counter=Atm.__counter+1\n",
    "\n",
    "         self.menu()\n",
    "\n",
    "    @staticmethod\n",
    "    def get_counter():\n",
    "        return Atm.__counter\n",
    "    \n",
    "\n",
    "    @staticmethod\n",
    "    def set_counter(new):\n",
    "        if type(new)==int:\n",
    "            Atm.__counter=new\n",
    "        else:\n",
    "            print('Not Allowed')    \n",
    "\n",
    "    def get_pin(self):\n",
    "        return self.__pin\n",
    "\n",
    "    def set_pin(self):\n",
    "        new_pin=input('Enter the new pin')\n",
    "        if type(new_pin)!=str:\n",
    "            return 'Not allowed'\n",
    "        self.__pin=new_pin\n",
    "        print('New Pin Set Successfully')\n",
    "           \n",
    "\n",
    "    def menu(self):\n",
    "        user_input = input(\"\"\" \n",
    "\n",
    "Welcome to our ATM service.\n",
    "                           \n",
    "        1. Enter 1 for creating pin\n",
    "        2. Enter 2 for deposit\n",
    "        3. Enter 3 for withdraw\n",
    "        4. Enter 4 to check the balance\n",
    "        5. Enter 5 to exit\n",
    "        \n",
    "Please enter your choice: \n",
    "\"\"\")\n",
    "        if user_input=='1':\n",
    "            self.create_pin()\n",
    "        elif user_input=='2':\n",
    "            self.deposit_amount()\n",
    "        elif user_input=='3':\n",
    "            self.withdraw_amount()\n",
    "        elif user_input=='4':\n",
    "            self.balance_amount() \n",
    "        else:\n",
    "            self.exit_method()    \n",
    "\n",
    "    def create_pin(self):\n",
    "        self.__pin=input('Enter your Pin')\n",
    "        print('PIN has been set successfully.') \n",
    "\n",
    "\n",
    "\n",
    "    def deposit_amount(self):\n",
    "        temp=input('Enter the pin of your ATM')\n",
    "        if self.__pin==temp:\n",
    "              deposit=input('Enter the Amount you want to deposit:')\n",
    "              self.__balance=deposit+self.__balance\n",
    "              print('{} has been deposited  successfully.'.format(deposit))\n",
    "        else:\n",
    "            print('Incorrect PIN provided')      \n",
    "\n",
    "      \n",
    "\n",
    "    def withdraw_amount(self):\n",
    "        temp=input('Enter the pin of your ATM')\n",
    "        if self.__pin==temp:\n",
    "              withdraw=int(input('Enter the Amount you want to withdraw:'))\n",
    "              if withdraw>self.__balance:\n",
    "                  print('Insufficient Balance')\n",
    "              else:\n",
    "                  self.__balance=self.__balance-withdraw\n",
    "                  print('{} has been withdrawn successfully.'.format(withdraw))\n",
    "                  print('Now your Balance is:{}'.format(self.__balance))\n",
    "                      \n",
    "        else:\n",
    "            print('Incorrect PIN provided')  \n",
    "\n",
    "\n",
    "\n",
    "    def balance_amount(self):\n",
    "        temp=input('Enter the pin of your ATM')\n",
    "        if self.__pin==temp:\n",
    "              print('Your Balance is:{}'.format(self.__balance))\n",
    "              \n",
    "        else:\n",
    "            print('Incorrect PIN provided')  \n",
    "\n",
    "\n",
    "\n",
    "    def exit_method(self):\n",
    "        self.__pin=input('Do you want to Exit???')\n",
    "        print('Thank you for using our Services.')                \n",
    "\n"
   ]
  },
  {
   "cell_type": "code",
   "execution_count": 113,
   "metadata": {},
   "outputs": [
    {
     "name": "stdout",
     "output_type": "stream",
     "text": [
      "PIN has been set successfully.\n"
     ]
    }
   ],
   "source": [
    "a1=Atm()"
   ]
  },
  {
   "cell_type": "code",
   "execution_count": 118,
   "metadata": {},
   "outputs": [
    {
     "name": "stdout",
     "output_type": "stream",
     "text": [
      "New Pin Set Successfully\n"
     ]
    }
   ],
   "source": [
    "a1.set_pin()"
   ]
  },
  {
   "cell_type": "code",
   "execution_count": 116,
   "metadata": {},
   "outputs": [
    {
     "data": {
      "text/plain": [
       "'1212'"
      ]
     },
     "execution_count": 116,
     "metadata": {},
     "output_type": "execute_result"
    }
   ],
   "source": [
    "a1.get_pin()"
   ]
  },
  {
   "cell_type": "code",
   "execution_count": 79,
   "metadata": {},
   "outputs": [
    {
     "name": "stdout",
     "output_type": "stream",
     "text": [
      "5678 has been deposited  successfully.\n"
     ]
    }
   ],
   "source": [
    "a1.deposit_amount()"
   ]
  },
  {
   "cell_type": "code",
   "execution_count": 87,
   "metadata": {},
   "outputs": [],
   "source": [
    "a1.__pin\n",
    "\n",
    "# we can acces the priavte memeber of the calss using data mangling technique.\n",
    "# objName._className__privateDataMember\n",
    "# Nothing in python is truely private"
   ]
  },
  {
   "cell_type": "code",
   "execution_count": 44,
   "metadata": {},
   "outputs": [
    {
     "name": "stdout",
     "output_type": "stream",
     "text": [
      "1234 has been withdrawn successfully.\n",
      "Now your Balance is:1233333\n"
     ]
    }
   ],
   "source": [
    "a1.withdraw_amount()"
   ]
  },
  {
   "cell_type": "code",
   "execution_count": 46,
   "metadata": {},
   "outputs": [
    {
     "name": "stdout",
     "output_type": "stream",
     "text": [
      "Your Balance is:1233333\n"
     ]
    }
   ],
   "source": [
    "a1.balance_amount()"
   ]
  },
  {
   "cell_type": "code",
   "execution_count": 47,
   "metadata": {},
   "outputs": [
    {
     "name": "stdout",
     "output_type": "stream",
     "text": [
      "Insufficient Balance\n"
     ]
    }
   ],
   "source": [
    "a1.withdraw_amount()"
   ]
  },
  {
   "cell_type": "code",
   "execution_count": null,
   "metadata": {},
   "outputs": [],
   "source": [
    "# Creating our own Data types in Python"
   ]
  },
  {
   "cell_type": "code",
   "execution_count": 51,
   "metadata": {},
   "outputs": [],
   "source": [
    "class fraction:\n",
    "    def __init__(self,nume,deno):\n",
    "        self.nume=nume\n",
    "        self.deno=deno\n",
    "\n",
    "    def __str__(self):\n",
    "        return '{}/{}'.format(self.nume,self.deno)\n",
    "    \n",
    "    def __add__(self,other):\n",
    "        print(fraction(self.nume*other.deno+self.deno*other.nume,self.deno*other.deno))\n",
    "        \n",
    "    \n",
    "    def __sub__(self,other):\n",
    "        print(fraction(self.nume*other.deno-self.deno*other.nume,self.deno*self.nume))\n",
    "        \n",
    "    \n",
    "    def __mul__(self,other):\n",
    "        print(fraction(self.nume*other.nume,self.deno*other.deno))\n",
    "\n",
    "    def __truediv__(self,other):\n",
    "        print(fraction(self.nume*other.deno,self.deno*other.nume))    \n",
    "        \n",
    "\n",
    "  "
   ]
  },
  {
   "cell_type": "code",
   "execution_count": 52,
   "metadata": {},
   "outputs": [],
   "source": [
    "f1=fraction(7,5)"
   ]
  },
  {
   "cell_type": "code",
   "execution_count": 53,
   "metadata": {},
   "outputs": [
    {
     "name": "stdout",
     "output_type": "stream",
     "text": [
      "7/5\n"
     ]
    }
   ],
   "source": [
    "print(f1)"
   ]
  },
  {
   "cell_type": "code",
   "execution_count": 54,
   "metadata": {},
   "outputs": [],
   "source": [
    "f2=fraction(3,2)"
   ]
  },
  {
   "cell_type": "code",
   "execution_count": 55,
   "metadata": {},
   "outputs": [
    {
     "name": "stdout",
     "output_type": "stream",
     "text": [
      "14/15\n"
     ]
    }
   ],
   "source": [
    "f1/f2"
   ]
  },
  {
   "cell_type": "code",
   "execution_count": null,
   "metadata": {},
   "outputs": [],
   "source": [
    "# The variable on which the address of the object of the class is stored is called ref variable\n",
    "# a1=Atm()  {here a1 is the obj of the class Atm . a1 is the ref variable}"
   ]
  },
  {
   "cell_type": "code",
   "execution_count": null,
   "metadata": {},
   "outputs": [],
   "source": [
    "# Pass by Reference"
   ]
  },
  {
   "cell_type": "code",
   "execution_count": 123,
   "metadata": {},
   "outputs": [],
   "source": [
    "class Customer:\n",
    "    def __init__(self,name,gender):\n",
    "        self.name=name\n",
    "        self.gender=gender\n",
    "def greet(Customer):\n",
    "    if Customer.gender=='Male':\n",
    "        return 'Hello {} Sir'.format(Customer.name)\n",
    "    return 'Hello {} Madam'.format(Customer.name)       \n",
    "\n"
   ]
  },
  {
   "cell_type": "code",
   "execution_count": 124,
   "metadata": {},
   "outputs": [],
   "source": [
    "c1=Customer('Rijan','Male')\n",
    "c2=Customer('Juna','Female')"
   ]
  },
  {
   "cell_type": "code",
   "execution_count": 125,
   "metadata": {},
   "outputs": [
    {
     "data": {
      "text/plain": [
       "'Hello Juna Madam'"
      ]
     },
     "execution_count": 125,
     "metadata": {},
     "output_type": "execute_result"
    }
   ],
   "source": [
    "greet(c2)"
   ]
  },
  {
   "cell_type": "code",
   "execution_count": 135,
   "metadata": {},
   "outputs": [],
   "source": [
    "# Pass by reference concept\n",
    "# Object of any class is also Mutuable\n",
    "# when passing a mutuable data type to the methods pass it like L[:],, otherwise it will change the orginal list also..\n",
    "# But no need to worry on immutable data type as it wont be changed"
   ]
  },
  {
   "cell_type": "code",
   "execution_count": 128,
   "metadata": {},
   "outputs": [],
   "source": [
    "class Bus:\n",
    "    def __init__(self,name,dest):\n",
    "        self.name=name\n",
    "        self.dest=dest\n",
    "\n",
    "def edit_info(Bus):\n",
    "    Bus.name='Sangam'\n",
    "    Bus.dest='Satgunj'\n",
    "    print(Bus.name)\n",
    "    print(Bus.dest) \n"
   ]
  },
  {
   "cell_type": "code",
   "execution_count": 129,
   "metadata": {},
   "outputs": [],
   "source": [
    "b1=Bus('SNS','Dharan')"
   ]
  },
  {
   "cell_type": "code",
   "execution_count": 130,
   "metadata": {},
   "outputs": [
    {
     "name": "stdout",
     "output_type": "stream",
     "text": [
      "Sangam\n",
      "Satgunj\n"
     ]
    }
   ],
   "source": [
    "edit_info(b1)"
   ]
  },
  {
   "cell_type": "code",
   "execution_count": 131,
   "metadata": {},
   "outputs": [
    {
     "data": {
      "text/plain": [
       "'Sangam'"
      ]
     },
     "execution_count": 131,
     "metadata": {},
     "output_type": "execute_result"
    }
   ],
   "source": [
    "b1.name"
   ]
  },
  {
   "cell_type": "code",
   "execution_count": 132,
   "metadata": {},
   "outputs": [
    {
     "data": {
      "text/plain": [
       "'Satgunj'"
      ]
     },
     "execution_count": 132,
     "metadata": {},
     "output_type": "execute_result"
    }
   ],
   "source": [
    "b1.dest"
   ]
  },
  {
   "cell_type": "code",
   "execution_count": null,
   "metadata": {},
   "outputs": [],
   "source": [
    "# Collection of objects"
   ]
  },
  {
   "cell_type": "code",
   "execution_count": 137,
   "metadata": {},
   "outputs": [
    {
     "data": {
      "text/plain": [
       "__main__.Bus"
      ]
     },
     "execution_count": 137,
     "metadata": {},
     "output_type": "execute_result"
    }
   ],
   "source": [
    "Bus"
   ]
  },
  {
   "cell_type": "code",
   "execution_count": 138,
   "metadata": {},
   "outputs": [],
   "source": [
    "b1=Bus('Sangam','Birgunj')\n",
    "b2=Bus('Kalash','Amardaha')\n",
    "b3=Bus('BhagyaShree','Sautha')\n",
    "Lobj=[b1,b2,b3]"
   ]
  },
  {
   "cell_type": "code",
   "execution_count": 140,
   "metadata": {},
   "outputs": [
    {
     "name": "stdout",
     "output_type": "stream",
     "text": [
      "Sangam ---->Kathmandu:  Birgunj\n",
      "Kalash ---->Kathmandu:  Amardaha\n",
      "BhagyaShree ---->Kathmandu:  Sautha\n"
     ]
    }
   ],
   "source": [
    "for i in Lobj:\n",
    "    print(i.name,'---->Kathmandu: ',i.dest)"
   ]
  },
  {
   "cell_type": "code",
   "execution_count": 141,
   "metadata": {},
   "outputs": [],
   "source": [
    "# Class Relationships\n",
    "\n",
    "# There are two types of class realtionships.\n",
    "\n",
    "# 1. Aggregation : Has A relationship (Product-Mobile),(Vehicle-Car)\n",
    "# 2. Inheritance : Is A relationship "
   ]
  },
  {
   "cell_type": "code",
   "execution_count": 148,
   "metadata": {},
   "outputs": [],
   "source": [
    "# Aggregrate Relationship code\n",
    "\n",
    "class Customer:\n",
    "\n",
    "    def __init__(self,name,gender,address):\n",
    "        self.name=name\n",
    "        self.gender=gender\n",
    "        self.address=address\n",
    "\n",
    "    def edit_info(self,new_name,new_city,new_pincode,new_state):\n",
    "        self.name=new_name\n",
    "        self.address.update_address(new_city,new_pincode,new_state)\n",
    "        \n",
    "        \n",
    "\n",
    "class Address:\n",
    "\n",
    "    def __init__(self,city,pincode,state):\n",
    "        self.city=city\n",
    "        self.pincode=pincode\n",
    "        self.state=state\n",
    "\n",
    "    def update_address(self,new_city,new_pin,new_state):\n",
    "        self.city=new_city\n",
    "        self.state=new_state\n",
    "        self.pincode=new_pin    \n",
    "\n",
    "a1=Address(pincode=2020,city='Kathmandu',state='Karnataka')  \n",
    "c1=Customer('Rijan','Male',a1)      \n",
    "\n",
    "\n"
   ]
  },
  {
   "cell_type": "code",
   "execution_count": 149,
   "metadata": {},
   "outputs": [],
   "source": [
    "c1.edit_info('Juna','Banglore',123456,'Telangana')"
   ]
  },
  {
   "cell_type": "code",
   "execution_count": 150,
   "metadata": {},
   "outputs": [
    {
     "data": {
      "text/plain": [
       "'Banglore'"
      ]
     },
     "execution_count": 150,
     "metadata": {},
     "output_type": "execute_result"
    }
   ],
   "source": [
    "c1.address.city"
   ]
  },
  {
   "cell_type": "code",
   "execution_count": null,
   "metadata": {},
   "outputs": [],
   "source": [
    "# Inheritance (Code Reusability)\n",
    "# Private member are not inherited\n",
    "\n",
    "# parents ra child dubai ma yutai name ko method xa vane ....it will access the junko obj ho tyasako method\n",
    "# It is called method overridding(Polymorphism)"
   ]
  },
  {
   "cell_type": "code",
   "execution_count": 163,
   "metadata": {},
   "outputs": [
    {
     "name": "stdout",
     "output_type": "stream",
     "text": [
      "Enrolled\n",
      "Reviewed\n",
      "Login in\n",
      "Registered\n"
     ]
    }
   ],
   "source": [
    "class User:\n",
    "\n",
    "    def __init__(self,name,degree,price):\n",
    "        self.name=name\n",
    "        self.degree=degree\n",
    "        self.__price=price\n",
    "\n",
    "\n",
    "    def login(self):\n",
    "        print('Login in')\n",
    "\n",
    "    def register(self):\n",
    "        print('Registered')  \n",
    "\n",
    "class Student(User):\n",
    "\n",
    "    def review(self):\n",
    "        print('Reviewed')  \n",
    "\n",
    "    def enroll(self):\n",
    "        print('Enrolled')            \n",
    "\n",
    "s1=Student(name='Rijan',degree='bei',price=12000)\n",
    "\n",
    "s1.enroll()\n",
    "s1.review()\n",
    "s1.login()\n",
    "s1.register()"
   ]
  },
  {
   "cell_type": "code",
   "execution_count": 164,
   "metadata": {},
   "outputs": [],
   "source": [
    "# Super Method\n",
    "# It is used to invoke the parent methods from the child class or subclass\n",
    "# It cannot be called outside of the class\n",
    "# Super method must be a first statement in constructor"
   ]
  },
  {
   "cell_type": "code",
   "execution_count": 165,
   "metadata": {},
   "outputs": [],
   "source": [
    "class Phone():\n",
    "    def __init__(self,price,brand,camera):\n",
    "        print('Inside of the Phone Constructor')\n",
    "        self.__price=price\n",
    "        self.__brand=brand\n",
    "        self.__camera=camera\n",
    "\n",
    "    def buy(self):\n",
    "        print('Buying Parent Phone')\n",
    "\n",
    "class smartPhone(Phone):\n",
    "\n",
    "    def buy(self):\n",
    "        print('Buying child Phone')\n",
    "        super().buy()\n",
    "\n"
   ]
  },
  {
   "cell_type": "code",
   "execution_count": 166,
   "metadata": {},
   "outputs": [
    {
     "name": "stdout",
     "output_type": "stream",
     "text": [
      "Inside of the Phone Constructor\n"
     ]
    }
   ],
   "source": [
    "s1=smartPhone(price=100,brand='Samsung',camera='20px')"
   ]
  },
  {
   "cell_type": "code",
   "execution_count": 167,
   "metadata": {},
   "outputs": [
    {
     "name": "stdout",
     "output_type": "stream",
     "text": [
      "Buying child Phone\n",
      "Buying Parent Phone\n"
     ]
    }
   ],
   "source": [
    "s1.buy()"
   ]
  },
  {
   "cell_type": "code",
   "execution_count": null,
   "metadata": {},
   "outputs": [],
   "source": [
    "# Types of Inheritnace in python\n",
    "# 1. Single level \n",
    "# 2. Multi level\n",
    "# 3. Hierarchical Level\n",
    "# 4. Multiple Level(Java ma hudaina python ma hunx)\n",
    "# 5. Hybrid Inheritance"
   ]
  },
  {
   "cell_type": "code",
   "execution_count": null,
   "metadata": {},
   "outputs": [],
   "source": [
    "# Method Resolution Operator - Jun first ma xa tye linx"
   ]
  },
  {
   "cell_type": "code",
   "execution_count": null,
   "metadata": {},
   "outputs": [],
   "source": [
    "# Method Overloading--St forward ma possible hudaina yo"
   ]
  },
  {
   "cell_type": "code",
   "execution_count": null,
   "metadata": {},
   "outputs": [],
   "source": []
  },
  {
   "cell_type": "code",
   "execution_count": null,
   "metadata": {},
   "outputs": [],
   "source": []
  },
  {
   "cell_type": "code",
   "execution_count": null,
   "metadata": {},
   "outputs": [],
   "source": []
  },
  {
   "cell_type": "code",
   "execution_count": null,
   "metadata": {},
   "outputs": [],
   "source": []
  },
  {
   "cell_type": "code",
   "execution_count": null,
   "metadata": {},
   "outputs": [],
   "source": []
  },
  {
   "cell_type": "code",
   "execution_count": null,
   "metadata": {},
   "outputs": [],
   "source": []
  },
  {
   "cell_type": "code",
   "execution_count": null,
   "metadata": {},
   "outputs": [],
   "source": []
  },
  {
   "cell_type": "code",
   "execution_count": null,
   "metadata": {},
   "outputs": [],
   "source": []
  },
  {
   "cell_type": "code",
   "execution_count": null,
   "metadata": {},
   "outputs": [],
   "source": []
  },
  {
   "cell_type": "code",
   "execution_count": null,
   "metadata": {},
   "outputs": [],
   "source": []
  }
 ],
 "metadata": {
  "kernelspec": {
   "display_name": "Python 3",
   "language": "python",
   "name": "python3"
  },
  "language_info": {
   "codemirror_mode": {
    "name": "ipython",
    "version": 3
   },
   "file_extension": ".py",
   "mimetype": "text/x-python",
   "name": "python",
   "nbconvert_exporter": "python",
   "pygments_lexer": "ipython3",
   "version": "3.12.2"
  }
 },
 "nbformat": 4,
 "nbformat_minor": 2
}
