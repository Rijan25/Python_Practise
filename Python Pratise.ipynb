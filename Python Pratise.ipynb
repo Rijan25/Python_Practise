{
 "cells": [
  {
   "cell_type": "code",
   "execution_count": 4,
   "id": "75d6c814",
   "metadata": {},
   "outputs": [
    {
     "data": {
      "text/plain": [
       "[1, 2, 3, 4, 5, 6, 7, 8, 9, 10]"
      ]
     },
     "execution_count": 4,
     "metadata": {},
     "output_type": "execute_result"
    }
   ],
   "source": [
    "# range function\n",
    "list(range(1,11))"
   ]
  },
  {
   "cell_type": "code",
   "execution_count": 5,
   "id": "6e801b5f",
   "metadata": {},
   "outputs": [
    {
     "data": {
      "text/plain": [
       "[11, 10, 9, 8, 7, 6, 5, 4, 3, 2, 1]"
      ]
     },
     "execution_count": 5,
     "metadata": {},
     "output_type": "execute_result"
    }
   ],
   "source": [
    "list(range(11,0,-1))"
   ]
  },
  {
   "cell_type": "code",
   "execution_count": 6,
   "id": "b168df30",
   "metadata": {},
   "outputs": [
    {
     "data": {
      "text/plain": [
       "['Kolkata', 'Delhi', 'Kathmandu']"
      ]
     },
     "execution_count": 6,
     "metadata": {},
     "output_type": "execute_result"
    }
   ],
   "source": [
    "# Sequence Concept\n",
    "['Kolkata','Delhi','Kathmandu']"
   ]
  },
  {
   "cell_type": "code",
   "execution_count": 7,
   "id": "e7dbf1b9",
   "metadata": {},
   "outputs": [
    {
     "data": {
      "text/plain": [
       "('Kolkata', 'Delhi', 'Kathmandu')"
      ]
     },
     "execution_count": 7,
     "metadata": {},
     "output_type": "execute_result"
    }
   ],
   "source": [
    "('Kolkata','Delhi','Kathmandu')"
   ]
  },
  {
   "cell_type": "code",
   "execution_count": 8,
   "id": "3df4ad7d",
   "metadata": {},
   "outputs": [
    {
     "name": "stdout",
     "output_type": "stream",
     "text": [
      "1\n",
      "2\n",
      "3\n",
      "4\n",
      "5\n",
      "6\n",
      "7\n",
      "8\n",
      "9\n",
      "10\n"
     ]
    }
   ],
   "source": [
    "for i in range(1,11,1):\n",
    "    print(i)"
   ]
  },
  {
   "cell_type": "code",
   "execution_count": 9,
   "id": "857e600c",
   "metadata": {},
   "outputs": [
    {
     "name": "stdout",
     "output_type": "stream",
     "text": [
      "R\n",
      "i\n",
      "j\n",
      "a\n",
      "n\n"
     ]
    }
   ],
   "source": [
    "for i in 'Rijan':\n",
    "    print(i)"
   ]
  },
  {
   "cell_type": "code",
   "execution_count": 10,
   "id": "d863e5cc",
   "metadata": {},
   "outputs": [
    {
     "name": "stdout",
     "output_type": "stream",
     "text": [
      "2\n",
      "4\n",
      "6\n",
      "8\n",
      "10\n",
      "12\n",
      "14\n",
      "16\n",
      "18\n",
      "0\n"
     ]
    }
   ],
   "source": [
    "for i in [1,2,3,4,5,6,7,8,9,0]:\n",
    "    print(i*2)"
   ]
  },
  {
   "cell_type": "code",
   "execution_count": 11,
   "id": "63d78d44",
   "metadata": {},
   "outputs": [],
   "source": [
    "bus=['Sangam','King','BhagyaShree','Kalash']"
   ]
  },
  {
   "cell_type": "code",
   "execution_count": 12,
   "id": "3695d939",
   "metadata": {},
   "outputs": [
    {
     "name": "stdout",
     "output_type": "stream",
     "text": [
      "Sangam\n",
      "BhagyaShree\n"
     ]
    }
   ],
   "source": [
    "for i,x in enumerate(bus):\n",
    "    if(i%2==0):\n",
    "        print(x)\n"
   ]
  },
  {
   "cell_type": "code",
   "execution_count": 13,
   "id": "f6004f4c",
   "metadata": {},
   "outputs": [],
   "source": [
    "bus=['Sangam','King','BhagyaShree','Kalash']\n",
    "bus1=['Sangam','King','BhagyaShree','Kalash','VIP']\n",
    "bus2=['Sangam','King','BhagyaShree','Kalash','SNS']"
   ]
  },
  {
   "cell_type": "code",
   "execution_count": 14,
   "id": "b8874563",
   "metadata": {},
   "outputs": [
    {
     "name": "stdout",
     "output_type": "stream",
     "text": [
      "('Sangam', 'Sangam')\n",
      "('King', 'King')\n",
      "('BhagyaShree', 'BhagyaShree')\n",
      "('Kalash', 'Kalash')\n",
      "('VIP', 'SNS')\n"
     ]
    }
   ],
   "source": [
    "for i in zip(bus1,bus2):\n",
    "    print(i)"
   ]
  },
  {
   "cell_type": "code",
   "execution_count": 15,
   "id": "04fbd0fa",
   "metadata": {},
   "outputs": [
    {
     "data": {
      "text/plain": [
       "['Sangam', 'King', 'BhagyaShree', 'Kalash']"
      ]
     },
     "execution_count": 15,
     "metadata": {},
     "output_type": "execute_result"
    }
   ],
   "source": [
    "bus"
   ]
  },
  {
   "cell_type": "code",
   "execution_count": 16,
   "id": "46cafe3c",
   "metadata": {},
   "outputs": [
    {
     "data": {
      "text/plain": [
       "['Kalash', 'BhagyaShree', 'King', 'Sangam']"
      ]
     },
     "execution_count": 16,
     "metadata": {},
     "output_type": "execute_result"
    }
   ],
   "source": [
    "bus[::-1]"
   ]
  },
  {
   "cell_type": "code",
   "execution_count": 17,
   "id": "fbafdb4b",
   "metadata": {},
   "outputs": [],
   "source": [
    "# Nested Loop"
   ]
  },
  {
   "cell_type": "code",
   "execution_count": 18,
   "id": "45d256e4",
   "metadata": {},
   "outputs": [
    {
     "name": "stdout",
     "output_type": "stream",
     "text": [
      "*   \n",
      "* *   \n",
      "* * *   \n",
      "* * * *   \n",
      "* * * * *   \n"
     ]
    }
   ],
   "source": [
    "for i in range(5):\n",
    "    while(i>=0):\n",
    "        print('*',end=' ')\n",
    "        i=i-1\n",
    "    print('  ')   "
   ]
  },
  {
   "cell_type": "code",
   "execution_count": 19,
   "id": "ff956238",
   "metadata": {},
   "outputs": [],
   "source": [
    "# Break,Continue and pass "
   ]
  },
  {
   "cell_type": "code",
   "execution_count": 20,
   "id": "4d6d990a",
   "metadata": {},
   "outputs": [
    {
     "name": "stdout",
     "output_type": "stream",
     "text": [
      "1\n",
      "2\n",
      "3\n",
      "4\n",
      "6\n",
      "7\n",
      "8\n",
      "9\n",
      "11\n"
     ]
    }
   ],
   "source": [
    "for i in range(1,12):\n",
    "    if(i%5==0):\n",
    "        continue\n",
    "    print(i)"
   ]
  },
  {
   "cell_type": "code",
   "execution_count": 21,
   "id": "e8be90a9",
   "metadata": {},
   "outputs": [],
   "source": [
    "# Builtin functions in python"
   ]
  },
  {
   "cell_type": "code",
   "execution_count": 22,
   "id": "ae14d92e",
   "metadata": {},
   "outputs": [
    {
     "name": "stdout",
     "output_type": "stream",
     "text": [
      "My name is \n"
     ]
    }
   ],
   "source": [
    "name=input('Enter your name')\n",
    "print('My name is '+name)"
   ]
  },
  {
   "cell_type": "code",
   "execution_count": 23,
   "id": "710aff7b",
   "metadata": {},
   "outputs": [
    {
     "data": {
      "text/plain": [
       "list"
      ]
     },
     "execution_count": 23,
     "metadata": {},
     "output_type": "execute_result"
    }
   ],
   "source": [
    "type(bus)"
   ]
  },
  {
   "cell_type": "code",
   "execution_count": 24,
   "id": "724eb202",
   "metadata": {},
   "outputs": [],
   "source": [
    "buses=tuple(bus)"
   ]
  },
  {
   "cell_type": "code",
   "execution_count": 25,
   "id": "268e4d16",
   "metadata": {},
   "outputs": [
    {
     "data": {
      "text/plain": [
       "tuple"
      ]
     },
     "execution_count": 25,
     "metadata": {},
     "output_type": "execute_result"
    }
   ],
   "source": [
    "type(buses)"
   ]
  },
  {
   "cell_type": "code",
   "execution_count": 26,
   "id": "39a0ae2a",
   "metadata": {},
   "outputs": [
    {
     "data": {
      "text/plain": [
       "4"
      ]
     },
     "execution_count": 26,
     "metadata": {},
     "output_type": "execute_result"
    }
   ],
   "source": [
    "abs(-4)"
   ]
  },
  {
   "cell_type": "code",
   "execution_count": 27,
   "id": "834e8530",
   "metadata": {},
   "outputs": [
    {
     "data": {
      "text/plain": [
       "0.125"
      ]
     },
     "execution_count": 27,
     "metadata": {},
     "output_type": "execute_result"
    }
   ],
   "source": [
    "pow(2,-3)"
   ]
  },
  {
   "cell_type": "code",
   "execution_count": 28,
   "id": "140d3dce",
   "metadata": {},
   "outputs": [
    {
     "data": {
      "text/plain": [
       "'s'"
      ]
     },
     "execution_count": 28,
     "metadata": {},
     "output_type": "execute_result"
    }
   ],
   "source": [
    "max('sangam')"
   ]
  },
  {
   "cell_type": "code",
   "execution_count": 29,
   "id": "181f8f68",
   "metadata": {},
   "outputs": [
    {
     "data": {
      "text/plain": [
       "1.2346"
      ]
     },
     "execution_count": 29,
     "metadata": {},
     "output_type": "execute_result"
    }
   ],
   "source": [
    "c=1.234557\n",
    "round(c,4)"
   ]
  },
  {
   "cell_type": "code",
   "execution_count": 30,
   "id": "2bfeb6d5",
   "metadata": {},
   "outputs": [
    {
     "data": {
      "text/plain": [
       "(1, 2)"
      ]
     },
     "execution_count": 30,
     "metadata": {},
     "output_type": "execute_result"
    }
   ],
   "source": [
    "x=divmod(5,3)\n",
    "x"
   ]
  },
  {
   "cell_type": "code",
   "execution_count": 31,
   "id": "25a15537",
   "metadata": {},
   "outputs": [
    {
     "data": {
      "text/plain": [
       "2"
      ]
     },
     "execution_count": 31,
     "metadata": {},
     "output_type": "execute_result"
    }
   ],
   "source": [
    "x[1]"
   ]
  },
  {
   "cell_type": "code",
   "execution_count": 32,
   "id": "b3163a43",
   "metadata": {},
   "outputs": [
    {
     "data": {
      "text/plain": [
       "2837880206896"
      ]
     },
     "execution_count": 32,
     "metadata": {},
     "output_type": "execute_result"
    }
   ],
   "source": [
    "name='Rijan'\n",
    "id(name)"
   ]
  },
  {
   "cell_type": "code",
   "execution_count": 33,
   "id": "1a09d0b7",
   "metadata": {},
   "outputs": [
    {
     "data": {
      "text/plain": [
       "5"
      ]
     },
     "execution_count": 33,
     "metadata": {},
     "output_type": "execute_result"
    }
   ],
   "source": [
    "len('Rijan')"
   ]
  },
  {
   "cell_type": "code",
   "execution_count": 34,
   "id": "96b8102a",
   "metadata": {},
   "outputs": [
    {
     "data": {
      "text/plain": [
       "['Sangam', 'King', 'BhagyaShree', 'Kalash', 'Tarkeswor']"
      ]
     },
     "execution_count": 34,
     "metadata": {},
     "output_type": "execute_result"
    }
   ],
   "source": [
    "bus.append('Tarkeswor')\n",
    "bus"
   ]
  },
  {
   "cell_type": "code",
   "execution_count": 35,
   "id": "57861b87",
   "metadata": {},
   "outputs": [],
   "source": [
    "# Built in Module python"
   ]
  },
  {
   "cell_type": "code",
   "execution_count": 36,
   "id": "28e60c36",
   "metadata": {},
   "outputs": [
    {
     "name": "stdout",
     "output_type": "stream",
     "text": [
      "\n",
      "Please wait a moment while I gather a list of all available modules...\n",
      "\n"
     ]
    },
    {
     "name": "stdout",
     "output_type": "stream",
     "text": [
      "test_sqlite3: testing with SQLite version 3.43.1\n",
      "IPython             array               math                tabnanny\n",
      "__future__          ast                 matplotlib_inline   tarfile\n",
      "__hello__           asttokens           mimetypes           telnetlib\n",
      "__phello__          asyncio             mmap                tempfile\n",
      "_abc                atexit              mmapfile            test\n",
      "_aix_support        audioop             mmsystem            textwrap\n",
      "_ast                base64              modulefinder        this\n",
      "_asyncio            bdb                 msilib              threading\n",
      "_bisect             binascii            msvcrt              time\n",
      "_blake2             bisect              multiprocessing     timeit\n",
      "_bz2                builtins            nest_asyncio        timer\n",
      "_codecs             bz2                 netbios             tkinter\n",
      "_codecs_cn          cProfile            netrc               token\n",
      "_codecs_hk          calendar            nntplib             tokenize\n",
      "_codecs_iso2022     cgi                 nt                  tomllib\n",
      "_codecs_jp          cgitb               ntpath              tornado\n",
      "_codecs_kr          chunk               ntsecuritycon       trace\n",
      "_codecs_tw          cmath               nturl2path          traceback\n",
      "_collections        cmd                 numbers             tracemalloc\n",
      "_collections_abc    code                odbc                traitlets\n",
      "_compat_pickle      codecs              opcode              tty\n",
      "_compression        codeop              operator            turtle\n",
      "_contextvars        collections         optparse            turtledemo\n",
      "_csv                colorama            os                  types\n",
      "_ctypes             colorsys            packaging           typing\n",
      "_ctypes_test        comm                parso               unicodedata\n",
      "_datetime           commctrl            pathlib             unittest\n",
      "_decimal            compileall          pdb                 urllib\n",
      "_elementtree        concurrent          perfmon             uu\n",
      "_functools          configparser        pickle              uuid\n",
      "_hashlib            contextlib          pickletools         venv\n",
      "_heapq              contextvars         pip                 warnings\n",
      "_imp                copy                pipes               wave\n",
      "_io                 copyreg             pkgutil             wcwidth\n",
      "_json               crypt               platform            weakref\n",
      "_locale             csv                 platformdirs        webbrowser\n",
      "_lsprof             ctypes              plistlib            win2kras\n",
      "_lzma               curses              poplib              win32api\n",
      "_markupbase         dataclasses         posixpath           win32clipboard\n",
      "_md5                datetime            pprint              win32com\n",
      "_msi                dateutil            profile             win32con\n",
      "_multibytecodec     dbi                 prompt_toolkit      win32console\n",
      "_multiprocessing    dbm                 pstats              win32cred\n",
      "_opcode             dde                 psutil              win32crypt\n",
      "_operator           debugpy             pty                 win32cryptcon\n",
      "_osx_support        decimal             pure_eval           win32event\n",
      "_overlapped         decorator           py_compile          win32evtlog\n",
      "_pickle             difflib             pyclbr              win32evtlogutil\n",
      "_py_abc             dis                 pydoc               win32file\n",
      "_pydatetime         doctest             pydoc_data          win32gui\n",
      "_pydecimal          email               pyexpat             win32gui_struct\n",
      "_pyio               encodings           pygments            win32help\n",
      "_pylong             ensurepip           pythoncom           win32inet\n",
      "_queue              enum                pywin               win32inetcon\n",
      "_random             errno               pywin32_bootstrap   win32job\n",
      "_sha1               executing           pywin32_testutil    win32lz\n",
      "_sha2               faulthandler        pywintypes          win32net\n",
      "_sha3               filecmp             queue               win32netcon\n",
      "_signal             fileinput           quopri              win32pdh\n",
      "_sitebuiltins       fnmatch             random              win32pdhquery\n",
      "_socket             fractions           rasutil             win32pdhutil\n",
      "_sqlite3            ftplib              re                  win32pipe\n",
      "_sre                functools           regcheck            win32print\n",
      "_ssl                gc                  regutil             win32process\n",
      "_stat               genericpath         reprlib             win32profile\n",
      "_statistics         getopt              rlcompleter         win32ras\n",
      "_string             getpass             runpy               win32rcparser\n",
      "_strptime           gettext             sched               win32security\n",
      "_struct             glob                secrets             win32service\n",
      "_symtable           graphlib            select              win32serviceutil\n",
      "_testbuffer         gzip                selectors           win32timezone\n",
      "_testcapi           hashlib             servicemanager      win32trace\n",
      "_testclinic         heapq               shelve              win32traceutil\n",
      "_testconsole        hmac                shlex               win32transaction\n",
      "_testimportmultiple html                shutil              win32ts\n",
      "_testinternalcapi   http                signal              win32ui\n",
      "_testmultiphase     idlelib             site                win32uiole\n",
      "_testsinglephase    imaplib             six                 win32verstamp\n",
      "_thread             imghdr              smtplib             win32wnet\n",
      "_threading_local    importlib           sndhdr              winerror\n",
      "_tkinter            inspect             socket              winioctlcon\n",
      "_tokenize           io                  socketserver        winnt\n",
      "_tracemalloc        ipaddress           sqlite3             winperf\n",
      "_typing             ipykernel           sre_compile         winreg\n",
      "_uuid               ipykernel_launcher  sre_constants       winsound\n",
      "_warnings           isapi               sre_parse           winxpgui\n",
      "_weakref            itertools           ssl                 winxptheme\n",
      "_weakrefset         jedi                sspi                wsgiref\n",
      "_win32sysloader     json                sspicon             xdrlib\n",
      "_winapi             jupyter             stack_data          xml\n",
      "_winxptheme         jupyter_client      start_pythonwin     xmlrpc\n",
      "_wmi                jupyter_core        stat                xxsubtype\n",
      "_xxinterpchannels   keyword             statistics          zipapp\n",
      "_xxsubinterpreters  lib2to3             string              zipfile\n",
      "_zoneinfo           linecache           stringprep          zipimport\n",
      "abc                 locale              struct              zlib\n",
      "adodbapi            logging             subprocess          zmq\n",
      "afxres              lzma                sunau               zoneinfo\n",
      "aifc                mailbox             symtable            \n",
      "antigravity         mailcap             sys                 \n",
      "argparse            marshal             sysconfig           \n",
      "\n",
      "Enter any module name to get more help.  Or, type \"modules spam\" to search\n",
      "for modules whose name or summary contain the string \"spam\".\n",
      "\n"
     ]
    }
   ],
   "source": [
    "help('modules')"
   ]
  },
  {
   "cell_type": "code",
   "execution_count": 37,
   "id": "42ac0911",
   "metadata": {},
   "outputs": [],
   "source": [
    "import math"
   ]
  },
  {
   "cell_type": "code",
   "execution_count": 38,
   "id": "a2d57900",
   "metadata": {},
   "outputs": [
    {
     "data": {
      "text/plain": [
       "10.0"
      ]
     },
     "execution_count": 38,
     "metadata": {},
     "output_type": "execute_result"
    }
   ],
   "source": [
    "math.sqrt(100)"
   ]
  },
  {
   "cell_type": "code",
   "execution_count": 39,
   "id": "9474efa7",
   "metadata": {},
   "outputs": [],
   "source": [
    "import random"
   ]
  },
  {
   "cell_type": "code",
   "execution_count": 40,
   "id": "8811fe4d",
   "metadata": {},
   "outputs": [
    {
     "data": {
      "text/plain": [
       "5"
      ]
     },
     "execution_count": 40,
     "metadata": {},
     "output_type": "execute_result"
    }
   ],
   "source": [
    "random.randint(1,23)"
   ]
  },
  {
   "cell_type": "code",
   "execution_count": 41,
   "id": "2bd42168",
   "metadata": {},
   "outputs": [
    {
     "data": {
      "text/plain": [
       "['Sangam', 'King', 'Kalash', 'Tarkeswor', 'BhagyaShree']"
      ]
     },
     "execution_count": 41,
     "metadata": {},
     "output_type": "execute_result"
    }
   ],
   "source": [
    "random.shuffle(bus)\n",
    "bus"
   ]
  },
  {
   "cell_type": "code",
   "execution_count": 42,
   "id": "31339d09",
   "metadata": {},
   "outputs": [],
   "source": [
    "bus.remove('Tarkeswor')"
   ]
  },
  {
   "cell_type": "code",
   "execution_count": 43,
   "id": "3358ef4b",
   "metadata": {},
   "outputs": [
    {
     "data": {
      "text/plain": [
       "['Sangam', 'King', 'Kalash', 'BhagyaShree']"
      ]
     },
     "execution_count": 43,
     "metadata": {},
     "output_type": "execute_result"
    }
   ],
   "source": [
    "bus"
   ]
  },
  {
   "cell_type": "code",
   "execution_count": 44,
   "id": "5e137dfd",
   "metadata": {},
   "outputs": [
    {
     "data": {
      "text/plain": [
       "1725893508.559202"
      ]
     },
     "execution_count": 44,
     "metadata": {},
     "output_type": "execute_result"
    }
   ],
   "source": [
    "import time\n",
    "time.time()"
   ]
  },
  {
   "cell_type": "code",
   "execution_count": 45,
   "id": "126785c0",
   "metadata": {},
   "outputs": [
    {
     "data": {
      "text/plain": [
       "'Mon Sep  9 20:36:48 2024'"
      ]
     },
     "execution_count": 45,
     "metadata": {},
     "output_type": "execute_result"
    }
   ],
   "source": [
    "time.ctime()"
   ]
  },
  {
   "cell_type": "code",
   "execution_count": 46,
   "id": "ab28d87d",
   "metadata": {},
   "outputs": [
    {
     "name": "stdout",
     "output_type": "stream",
     "text": [
      "Hello\n",
      "Rijan\n"
     ]
    }
   ],
   "source": [
    "print('Hello')\n",
    "time.sleep(2)\n",
    "print('Rijan')"
   ]
  },
  {
   "cell_type": "code",
   "execution_count": 47,
   "id": "dc410daf",
   "metadata": {},
   "outputs": [
    {
     "data": {
      "text/plain": [
       "'c:\\\\Users\\\\DELL\\\\Desktop\\\\Sem\\\\python_scratch'"
      ]
     },
     "execution_count": 47,
     "metadata": {},
     "output_type": "execute_result"
    }
   ],
   "source": [
    "import os\n",
    "os.getcwd()"
   ]
  },
  {
   "cell_type": "code",
   "execution_count": 48,
   "id": "c847533f",
   "metadata": {},
   "outputs": [
    {
     "name": "stdout",
     "output_type": "stream",
     "text": [
      "Rijan Pokhrel\n"
     ]
    }
   ],
   "source": [
    "name='Rijan Pokhrel'\n",
    "namees=\"Rijan Pokhrel\"\n",
    "print(namees)"
   ]
  },
  {
   "cell_type": "code",
   "execution_count": 49,
   "id": "3dacaa02",
   "metadata": {},
   "outputs": [],
   "source": [
    "# Accessing Substrings from the String"
   ]
  },
  {
   "cell_type": "code",
   "execution_count": 50,
   "id": "9348e447",
   "metadata": {},
   "outputs": [
    {
     "data": {
      "text/plain": [
       "'e'"
      ]
     },
     "execution_count": 50,
     "metadata": {},
     "output_type": "execute_result"
    }
   ],
   "source": [
    "# Concept of indexing\n",
    "name[-2]"
   ]
  },
  {
   "cell_type": "code",
   "execution_count": 51,
   "id": "1a6b4f1f",
   "metadata": {},
   "outputs": [
    {
     "data": {
      "text/plain": [
       "'Rijan'"
      ]
     },
     "execution_count": 51,
     "metadata": {},
     "output_type": "execute_result"
    }
   ],
   "source": [
    "# Concept of Slicing\n",
    "name[0:6]\n",
    "name[3:]\n",
    "name[:5]"
   ]
  },
  {
   "cell_type": "code",
   "execution_count": 52,
   "id": "9278f681",
   "metadata": {},
   "outputs": [
    {
     "data": {
      "text/plain": [
       "'Rjn'"
      ]
     },
     "execution_count": 52,
     "metadata": {},
     "output_type": "execute_result"
    }
   ],
   "source": [
    "name[0:5:2]"
   ]
  },
  {
   "cell_type": "code",
   "execution_count": 53,
   "id": "b9f3b754",
   "metadata": {},
   "outputs": [
    {
     "data": {
      "text/plain": [
       "'Rijan Pokhre'"
      ]
     },
     "execution_count": 53,
     "metadata": {},
     "output_type": "execute_result"
    }
   ],
   "source": [
    "name[-14:-1]"
   ]
  },
  {
   "cell_type": "code",
   "execution_count": 54,
   "id": "f0807d88",
   "metadata": {},
   "outputs": [
    {
     "data": {
      "text/plain": [
       "'lerhkoP najiR'"
      ]
     },
     "execution_count": 54,
     "metadata": {},
     "output_type": "execute_result"
    }
   ],
   "source": [
    "name[::-1]"
   ]
  },
  {
   "cell_type": "code",
   "execution_count": 55,
   "id": "290268de",
   "metadata": {},
   "outputs": [
    {
     "data": {
      "text/plain": [
       "'lerhkoP'"
      ]
     },
     "execution_count": 55,
     "metadata": {},
     "output_type": "execute_result"
    }
   ],
   "source": [
    "name[-1:-8:-1]"
   ]
  },
  {
   "cell_type": "code",
   "execution_count": 56,
   "id": "8a2876ab",
   "metadata": {},
   "outputs": [],
   "source": [
    "# editing and deleting in strings\n",
    "# Strings are immutable in python"
   ]
  },
  {
   "cell_type": "code",
   "execution_count": 57,
   "id": "0c1bd5d9",
   "metadata": {},
   "outputs": [],
   "source": [
    "# Operations on Strings"
   ]
  },
  {
   "cell_type": "code",
   "execution_count": 58,
   "id": "ca5d1575",
   "metadata": {},
   "outputs": [
    {
     "data": {
      "text/plain": [
       "'Rijan Pokhrel'"
      ]
     },
     "execution_count": 58,
     "metadata": {},
     "output_type": "execute_result"
    }
   ],
   "source": [
    "name='Rijan '\n",
    "surname='Pokhrel'\n",
    "name+surname"
   ]
  },
  {
   "cell_type": "code",
   "execution_count": 59,
   "id": "fe2bb80d",
   "metadata": {},
   "outputs": [
    {
     "data": {
      "text/plain": [
       "'Rijan Rijan Rijan Rijan Rijan Rijan Rijan '"
      ]
     },
     "execution_count": 59,
     "metadata": {},
     "output_type": "execute_result"
    }
   ],
   "source": [
    "name*7"
   ]
  },
  {
   "cell_type": "code",
   "execution_count": 60,
   "id": "c0a20d94",
   "metadata": {},
   "outputs": [
    {
     "data": {
      "text/plain": [
       "True"
      ]
     },
     "execution_count": 60,
     "metadata": {},
     "output_type": "execute_result"
    }
   ],
   "source": [
    "name!=surname"
   ]
  },
  {
   "cell_type": "code",
   "execution_count": 61,
   "id": "8518aaeb",
   "metadata": {},
   "outputs": [
    {
     "data": {
      "text/plain": [
       "False"
      ]
     },
     "execution_count": 61,
     "metadata": {},
     "output_type": "execute_result"
    }
   ],
   "source": [
    "name<surname"
   ]
  },
  {
   "cell_type": "code",
   "execution_count": 62,
   "id": "b2857d41",
   "metadata": {},
   "outputs": [
    {
     "data": {
      "text/plain": [
       "'Pokhrel'"
      ]
     },
     "execution_count": 62,
     "metadata": {},
     "output_type": "execute_result"
    }
   ],
   "source": [
    "name and surname"
   ]
  },
  {
   "cell_type": "code",
   "execution_count": 63,
   "id": "729a6e35",
   "metadata": {},
   "outputs": [
    {
     "data": {
      "text/plain": [
       "'Rijan '"
      ]
     },
     "execution_count": 63,
     "metadata": {},
     "output_type": "execute_result"
    }
   ],
   "source": [
    "name or surname"
   ]
  },
  {
   "cell_type": "code",
   "execution_count": 64,
   "id": "28e14816",
   "metadata": {},
   "outputs": [
    {
     "data": {
      "text/plain": [
       "'Rijan '"
      ]
     },
     "execution_count": 64,
     "metadata": {},
     "output_type": "execute_result"
    }
   ],
   "source": [
    "name or surname"
   ]
  },
  {
   "cell_type": "code",
   "execution_count": 65,
   "id": "5fedafab",
   "metadata": {},
   "outputs": [
    {
     "data": {
      "text/plain": [
       "True"
      ]
     },
     "execution_count": 65,
     "metadata": {},
     "output_type": "execute_result"
    }
   ],
   "source": [
    "'j'in name"
   ]
  },
  {
   "cell_type": "code",
   "execution_count": 66,
   "id": "7fb7ad96",
   "metadata": {},
   "outputs": [],
   "source": [
    "# String functions in python"
   ]
  },
  {
   "cell_type": "code",
   "execution_count": 67,
   "id": "d1f9943b",
   "metadata": {},
   "outputs": [
    {
     "data": {
      "text/plain": [
       "9"
      ]
     },
     "execution_count": 67,
     "metadata": {},
     "output_type": "execute_result"
    }
   ],
   "source": [
    "city='kathmandu'\n",
    "len(city)"
   ]
  },
  {
   "cell_type": "code",
   "execution_count": 68,
   "id": "4161355f",
   "metadata": {},
   "outputs": [
    {
     "data": {
      "text/plain": [
       "'u'"
      ]
     },
     "execution_count": 68,
     "metadata": {},
     "output_type": "execute_result"
    }
   ],
   "source": [
    "max(city)"
   ]
  },
  {
   "cell_type": "code",
   "execution_count": 69,
   "id": "ac9286e9",
   "metadata": {},
   "outputs": [
    {
     "data": {
      "text/plain": [
       "'a'"
      ]
     },
     "execution_count": 69,
     "metadata": {},
     "output_type": "execute_result"
    }
   ],
   "source": [
    "min(city)"
   ]
  },
  {
   "cell_type": "code",
   "execution_count": 70,
   "id": "4c20338d",
   "metadata": {},
   "outputs": [
    {
     "data": {
      "text/plain": [
       "['u', 't', 'n', 'm', 'k', 'h', 'd', 'a', 'a']"
      ]
     },
     "execution_count": 70,
     "metadata": {},
     "output_type": "execute_result"
    }
   ],
   "source": [
    "sorted(city,reverse=True)"
   ]
  },
  {
   "cell_type": "code",
   "execution_count": 71,
   "id": "60d0472a",
   "metadata": {},
   "outputs": [
    {
     "data": {
      "text/plain": [
       "'Kathmandu'"
      ]
     },
     "execution_count": 71,
     "metadata": {},
     "output_type": "execute_result"
    }
   ],
   "source": [
    "city.capitalize()"
   ]
  },
  {
   "cell_type": "code",
   "execution_count": 72,
   "id": "f78193ec",
   "metadata": {},
   "outputs": [
    {
     "data": {
      "text/plain": [
       "'KATHMANDU'"
      ]
     },
     "execution_count": 72,
     "metadata": {},
     "output_type": "execute_result"
    }
   ],
   "source": [
    "city.upper()"
   ]
  },
  {
   "cell_type": "code",
   "execution_count": 73,
   "id": "9883759f",
   "metadata": {},
   "outputs": [
    {
     "data": {
      "text/plain": [
       "'This Is Kathmandu City'"
      ]
     },
     "execution_count": 73,
     "metadata": {},
     "output_type": "execute_result"
    }
   ],
   "source": [
    "sentences='This is kathmandu city'\n",
    "sentences.title()"
   ]
  },
  {
   "cell_type": "code",
   "execution_count": 74,
   "id": "96310e97",
   "metadata": {},
   "outputs": [
    {
     "data": {
      "text/plain": [
       "'KATHMANDU'"
      ]
     },
     "execution_count": 74,
     "metadata": {},
     "output_type": "execute_result"
    }
   ],
   "source": [
    "city.swapcase()"
   ]
  },
  {
   "cell_type": "code",
   "execution_count": 75,
   "id": "5124a3de",
   "metadata": {},
   "outputs": [
    {
     "data": {
      "text/plain": [
       "2"
      ]
     },
     "execution_count": 75,
     "metadata": {},
     "output_type": "execute_result"
    }
   ],
   "source": [
    "sentences.count('is')"
   ]
  },
  {
   "cell_type": "code",
   "execution_count": 76,
   "id": "4dc88449",
   "metadata": {},
   "outputs": [
    {
     "data": {
      "text/plain": [
       "1"
      ]
     },
     "execution_count": 76,
     "metadata": {},
     "output_type": "execute_result"
    }
   ],
   "source": [
    "city.find('a')"
   ]
  },
  {
   "cell_type": "code",
   "execution_count": 77,
   "id": "f9db0fa9",
   "metadata": {},
   "outputs": [
    {
     "data": {
      "text/plain": [
       "2"
      ]
     },
     "execution_count": 77,
     "metadata": {},
     "output_type": "execute_result"
    }
   ],
   "source": [
    "city.index('t')"
   ]
  },
  {
   "cell_type": "code",
   "execution_count": 78,
   "id": "c49d8f01",
   "metadata": {},
   "outputs": [
    {
     "data": {
      "text/plain": [
       "'My name is Rijan.And I am 25 right now'"
      ]
     },
     "execution_count": 78,
     "metadata": {},
     "output_type": "execute_result"
    }
   ],
   "source": [
    "'My name is {}.And I am {} right now'.format('Rijan',25)"
   ]
  },
  {
   "cell_type": "code",
   "execution_count": 79,
   "id": "f0832c78",
   "metadata": {},
   "outputs": [
    {
     "data": {
      "text/plain": [
       "'My name is Rijan.And I am 25 right now'"
      ]
     },
     "execution_count": 79,
     "metadata": {},
     "output_type": "execute_result"
    }
   ],
   "source": [
    "'My name is {name}.And I am {age} right now'.format(name='Rijan',age=25)"
   ]
  },
  {
   "cell_type": "code",
   "execution_count": 80,
   "id": "19a05f41",
   "metadata": {},
   "outputs": [
    {
     "data": {
      "text/plain": [
       "'My name is Rijan.And I am 25 right now'"
      ]
     },
     "execution_count": 80,
     "metadata": {},
     "output_type": "execute_result"
    }
   ],
   "source": [
    "'My name is {1}.And I am {0} right now'.format(25,'Rijan')"
   ]
  },
  {
   "cell_type": "code",
   "execution_count": 81,
   "id": "9002f2ba",
   "metadata": {},
   "outputs": [
    {
     "data": {
      "text/plain": [
       "True"
      ]
     },
     "execution_count": 81,
     "metadata": {},
     "output_type": "execute_result"
    }
   ],
   "source": [
    "'flat'.isalpha()"
   ]
  },
  {
   "cell_type": "code",
   "execution_count": 82,
   "id": "4ead10d3",
   "metadata": {},
   "outputs": [
    {
     "data": {
      "text/plain": [
       "True"
      ]
     },
     "execution_count": 82,
     "metadata": {},
     "output_type": "execute_result"
    }
   ],
   "source": [
    "'2000'.isdigit()"
   ]
  },
  {
   "cell_type": "code",
   "execution_count": 83,
   "id": "d6790f21",
   "metadata": {},
   "outputs": [],
   "source": [
    "info_sent=' '.join(['Rijan','Pokhrel','Is','Passionate','About','Data','Science'])"
   ]
  },
  {
   "cell_type": "code",
   "execution_count": 84,
   "id": "66f3d616",
   "metadata": {},
   "outputs": [
    {
     "data": {
      "text/plain": [
       "'Rijan Pokhrel Is Passionate About Data Science'"
      ]
     },
     "execution_count": 84,
     "metadata": {},
     "output_type": "execute_result"
    }
   ],
   "source": [
    "info_sent"
   ]
  },
  {
   "cell_type": "code",
   "execution_count": 85,
   "id": "15688136",
   "metadata": {},
   "outputs": [
    {
     "data": {
      "text/plain": [
       "'Rijan Pokhrel Is Passionate About Data Science'"
      ]
     },
     "execution_count": 85,
     "metadata": {},
     "output_type": "execute_result"
    }
   ],
   "source": [
    "list=info_sent.split()\n",
    "' '.join(list)"
   ]
  },
  {
   "cell_type": "code",
   "execution_count": 86,
   "id": "0aa60e20",
   "metadata": {},
   "outputs": [
    {
     "data": {
      "text/plain": [
       "'Rizen Pokhrel Is Passionate About Data Science'"
      ]
     },
     "execution_count": 86,
     "metadata": {},
     "output_type": "execute_result"
    }
   ],
   "source": [
    "info_sent.replace('Rijan','Rizen')"
   ]
  },
  {
   "cell_type": "code",
   "execution_count": 87,
   "id": "1e2e104e",
   "metadata": {},
   "outputs": [
    {
     "data": {
      "text/plain": [
       "'Rijan Pokhrel Is Passionate About Data Science'"
      ]
     },
     "execution_count": 87,
     "metadata": {},
     "output_type": "execute_result"
    }
   ],
   "source": [
    "info_sent"
   ]
  },
  {
   "cell_type": "code",
   "execution_count": 88,
   "id": "ba0fd5d6",
   "metadata": {},
   "outputs": [],
   "source": [
    "# List in python"
   ]
  },
  {
   "cell_type": "code",
   "execution_count": 89,
   "id": "5e1d209f",
   "metadata": {},
   "outputs": [
    {
     "data": {
      "text/plain": [
       "['Sangam', 'Birgunj', 1200, 'AC']"
      ]
     },
     "execution_count": 89,
     "metadata": {},
     "output_type": "execute_result"
    }
   ],
   "source": [
    "# Creating a list in python\n",
    "list=['Sangam','Birgunj',1200,'AC']\n",
    "list"
   ]
  },
  {
   "cell_type": "code",
   "execution_count": 90,
   "id": "2a62f965",
   "metadata": {},
   "outputs": [],
   "source": [
    "# List vs Array\n",
    "# 1. Array ma homogenous data stored hunx tra list ma j pani store garna milx\n",
    "# 2. Array are stored in contigious location.\n",
    "# 3. Array are faster than list\n",
    "# 4. List are more programmable friendly."
   ]
  },
  {
   "cell_type": "code",
   "execution_count": 91,
   "id": "c1c3a4c5",
   "metadata": {},
   "outputs": [
    {
     "data": {
      "text/plain": [
       "list"
      ]
     },
     "execution_count": 91,
     "metadata": {},
     "output_type": "execute_result"
    }
   ],
   "source": [
    "D2list=[1,2,3,4,[7,8,9]]\n",
    "type(D2list[4])"
   ]
  },
  {
   "cell_type": "code",
   "execution_count": 92,
   "id": "85fedc10",
   "metadata": {},
   "outputs": [
    {
     "data": {
      "text/plain": [
       "[[[1, 2], [3, 4]], [[7, 9], [0, 5]]]"
      ]
     },
     "execution_count": 92,
     "metadata": {},
     "output_type": "execute_result"
    }
   ],
   "source": [
    "D3list=[[[1,2],[3,4]],[[7,9],[0,5]]]\n",
    "D3list\n"
   ]
  },
  {
   "cell_type": "code",
   "execution_count": 93,
   "id": "6ec5ec20",
   "metadata": {},
   "outputs": [
    {
     "data": {
      "text/plain": [
       "4"
      ]
     },
     "execution_count": 93,
     "metadata": {},
     "output_type": "execute_result"
    }
   ],
   "source": [
    "D3list[0][1][1]"
   ]
  },
  {
   "cell_type": "code",
   "execution_count": 94,
   "id": "c3a14370",
   "metadata": {},
   "outputs": [],
   "source": [
    "bus.insert(2,'Sampurna')"
   ]
  },
  {
   "cell_type": "code",
   "execution_count": 95,
   "id": "fde89277",
   "metadata": {},
   "outputs": [
    {
     "data": {
      "text/plain": [
       "['Sangam', 'SangamAC', 'SampurnaAC', 'TarkesworAC', 'Kalash', 'BhagyaShree']"
      ]
     },
     "execution_count": 95,
     "metadata": {},
     "output_type": "execute_result"
    }
   ],
   "source": [
    "bus[1:3]=['SangamAC','SampurnaAC','TarkesworAC']\n",
    "bus"
   ]
  },
  {
   "cell_type": "code",
   "execution_count": 96,
   "id": "5b050be8",
   "metadata": {},
   "outputs": [
    {
     "data": {
      "text/plain": [
       "['Sangam', 'SangamAC', 'SampurnaAC', 'TarkesworAC', 'Kalash', 'BhagyaShree']"
      ]
     },
     "execution_count": 96,
     "metadata": {},
     "output_type": "execute_result"
    }
   ],
   "source": [
    "bus"
   ]
  },
  {
   "cell_type": "code",
   "execution_count": 97,
   "id": "f4d58f14",
   "metadata": {},
   "outputs": [
    {
     "data": {
      "text/plain": [
       "['Sangam',\n",
       " 'SangamAC',\n",
       " 'SampurnaAC',\n",
       " 'TarkesworAC',\n",
       " 'Kalash',\n",
       " 'BhagyaShree',\n",
       " 'Munal',\n",
       " 'Maklau',\n",
       " 'Metro']"
      ]
     },
     "execution_count": 97,
     "metadata": {},
     "output_type": "execute_result"
    }
   ],
   "source": [
    "# bus.insert(-1,'Miteri')\n",
    "bus.extend(['Munal','Maklau','Metro'])\n",
    "bus"
   ]
  },
  {
   "cell_type": "code",
   "execution_count": 98,
   "id": "86ef397d",
   "metadata": {},
   "outputs": [],
   "source": [
    "# append le single item lai add garxa last ma tra extend le list lai append garxa last ma"
   ]
  },
  {
   "cell_type": "code",
   "execution_count": 99,
   "id": "5cc41a81",
   "metadata": {},
   "outputs": [
    {
     "data": {
      "text/plain": [
       "['Sangam',\n",
       " 'SangamAC',\n",
       " 'SampurnaAC',\n",
       " 'TarkesworAC',\n",
       " 'Kalash',\n",
       " 'BhagyaShree',\n",
       " 'Munal',\n",
       " 'Maklau',\n",
       " 'Metro']"
      ]
     },
     "execution_count": 99,
     "metadata": {},
     "output_type": "execute_result"
    }
   ],
   "source": [
    "bus"
   ]
  },
  {
   "cell_type": "code",
   "execution_count": 100,
   "id": "733e2106",
   "metadata": {},
   "outputs": [],
   "source": [
    "del bus[4]"
   ]
  },
  {
   "cell_type": "code",
   "execution_count": 101,
   "id": "4848812e",
   "metadata": {},
   "outputs": [
    {
     "data": {
      "text/plain": [
       "['Sangam',\n",
       " 'SangamAC',\n",
       " 'SampurnaAC',\n",
       " 'TarkesworAC',\n",
       " 'BhagyaShree',\n",
       " 'Munal',\n",
       " 'Maklau',\n",
       " 'Metro']"
      ]
     },
     "execution_count": 101,
     "metadata": {},
     "output_type": "execute_result"
    }
   ],
   "source": [
    "bus"
   ]
  },
  {
   "cell_type": "code",
   "execution_count": 102,
   "id": "6b88165c",
   "metadata": {},
   "outputs": [
    {
     "data": {
      "text/plain": [
       "['Sangam', 'SangamAC', 'SampurnaAC', 'TarkesworAC', 'BhagyaShree', 'Munal']"
      ]
     },
     "execution_count": 102,
     "metadata": {},
     "output_type": "execute_result"
    }
   ],
   "source": [
    "del bus[-1:-3:-1]\n",
    "bus"
   ]
  },
  {
   "cell_type": "code",
   "execution_count": 103,
   "id": "d006f386",
   "metadata": {},
   "outputs": [
    {
     "data": {
      "text/plain": [
       "['Sangam', 'SangamAC', 'SampurnaAC', 'TarkesworAC', 'BhagyaShree', 'Munal']"
      ]
     },
     "execution_count": 103,
     "metadata": {},
     "output_type": "execute_result"
    }
   ],
   "source": [
    "bus"
   ]
  },
  {
   "cell_type": "code",
   "execution_count": 104,
   "id": "76c3ead5",
   "metadata": {},
   "outputs": [
    {
     "data": {
      "text/plain": [
       "'Munal'"
      ]
     },
     "execution_count": 104,
     "metadata": {},
     "output_type": "execute_result"
    }
   ],
   "source": [
    "bus.pop()"
   ]
  },
  {
   "cell_type": "code",
   "execution_count": 105,
   "id": "e2ee5180",
   "metadata": {},
   "outputs": [
    {
     "data": {
      "text/plain": [
       "['Sangam', 'SangamAC', 'SampurnaAC', 'TarkesworAC', 'BhagyaShree']"
      ]
     },
     "execution_count": 105,
     "metadata": {},
     "output_type": "execute_result"
    }
   ],
   "source": [
    "bus"
   ]
  },
  {
   "cell_type": "code",
   "execution_count": 106,
   "id": "03c4f5d9",
   "metadata": {},
   "outputs": [],
   "source": [
    "# Operations on list in python"
   ]
  },
  {
   "cell_type": "code",
   "execution_count": 107,
   "id": "0730c996",
   "metadata": {},
   "outputs": [
    {
     "name": "stdout",
     "output_type": "stream",
     "text": [
      "Sangam\n",
      "SangamAC\n",
      "SampurnaAC\n",
      "TarkesworAC\n",
      "BhagyaShree\n"
     ]
    }
   ],
   "source": [
    "for i in bus:\n",
    "    print(i)"
   ]
  },
  {
   "cell_type": "code",
   "execution_count": 108,
   "id": "4b462600",
   "metadata": {},
   "outputs": [
    {
     "data": {
      "text/plain": [
       "False"
      ]
     },
     "execution_count": 108,
     "metadata": {},
     "output_type": "execute_result"
    }
   ],
   "source": [
    "'Kalash' in bus"
   ]
  },
  {
   "cell_type": "code",
   "execution_count": 109,
   "id": "259dc435",
   "metadata": {},
   "outputs": [
    {
     "data": {
      "text/plain": [
       "['TarkesworAC', 'SangamAC', 'Sangam', 'SampurnaAC', 'BhagyaShree']"
      ]
     },
     "execution_count": 109,
     "metadata": {},
     "output_type": "execute_result"
    }
   ],
   "source": [
    "sorted(bus,reverse=True)"
   ]
  },
  {
   "cell_type": "code",
   "execution_count": 110,
   "id": "29e630ba",
   "metadata": {},
   "outputs": [
    {
     "data": {
      "text/plain": [
       "'BhagyaShree'"
      ]
     },
     "execution_count": 110,
     "metadata": {},
     "output_type": "execute_result"
    }
   ],
   "source": [
    "min(bus)"
   ]
  },
  {
   "cell_type": "code",
   "execution_count": 111,
   "id": "aae8582a",
   "metadata": {},
   "outputs": [
    {
     "ename": "ValueError",
     "evalue": "'Kalash' is not in list",
     "output_type": "error",
     "traceback": [
      "\u001b[1;31m---------------------------------------------------------------------------\u001b[0m",
      "\u001b[1;31mValueError\u001b[0m                                Traceback (most recent call last)",
      "Cell \u001b[1;32mIn[111], line 1\u001b[0m\n\u001b[1;32m----> 1\u001b[0m \u001b[43mbus\u001b[49m\u001b[38;5;241;43m.\u001b[39;49m\u001b[43mindex\u001b[49m\u001b[43m(\u001b[49m\u001b[38;5;124;43m'\u001b[39;49m\u001b[38;5;124;43mKalash\u001b[39;49m\u001b[38;5;124;43m'\u001b[39;49m\u001b[43m)\u001b[49m\n",
      "\u001b[1;31mValueError\u001b[0m: 'Kalash' is not in list"
     ]
    }
   ],
   "source": [
    "bus.index('Kalash')"
   ]
  },
  {
   "cell_type": "code",
   "execution_count": 110,
   "id": "ccca7f11",
   "metadata": {},
   "outputs": [],
   "source": [
    "# Sorted is temporary but Sort is Permanent"
   ]
  },
  {
   "cell_type": "code",
   "execution_count": 111,
   "id": "a0ed228a",
   "metadata": {},
   "outputs": [],
   "source": [
    "def custom_title(sentence):\n",
    "    new_sentence=[]\n",
    "    for i in sentence.split():\n",
    "        new_sentence.append(i.capitalize())\n",
    "    str=' '.join(new_sentence)   \n",
    "    return str \n",
    "    \n",
    "\n"
   ]
  },
  {
   "cell_type": "code",
   "execution_count": 112,
   "id": "420b726d",
   "metadata": {},
   "outputs": [
    {
     "data": {
      "text/plain": [
       "'The Quick Brown Fox Jumps Over The Lazy Dog'"
      ]
     },
     "execution_count": 112,
     "metadata": {},
     "output_type": "execute_result"
    }
   ],
   "source": [
    "custom_title('the quick brown fox jumps over the lazy dog')\n"
   ]
  },
  {
   "cell_type": "code",
   "execution_count": 113,
   "id": "656bb6c2",
   "metadata": {},
   "outputs": [],
   "source": [
    "def email_checker(email):\n",
    "    return email[:email.find('@')]"
   ]
  },
  {
   "cell_type": "code",
   "execution_count": 114,
   "id": "ceaff63f",
   "metadata": {},
   "outputs": [
    {
     "data": {
      "text/plain": [
       "'emily_jones2024'"
      ]
     },
     "execution_count": 114,
     "metadata": {},
     "output_type": "execute_result"
    }
   ],
   "source": [
    "email_checker('emily_jones2024@service.com')"
   ]
  },
  {
   "cell_type": "code",
   "execution_count": 115,
   "id": "741416fd",
   "metadata": {},
   "outputs": [],
   "source": [
    "# def remove_duplicate(lists):\n",
    "#     for i,x in enumerate(lists):\n",
    "#         for j,y in enumerate(lists):\n",
    "#             if x==j:\n",
    "#                 # lists.remove(x)\n",
    "#     return lists            \n",
    "            "
   ]
  },
  {
   "cell_type": "code",
   "execution_count": 128,
   "id": "a2b5bea0",
   "metadata": {},
   "outputs": [],
   "source": [
    "del list"
   ]
  },
  {
   "cell_type": "code",
   "execution_count": 129,
   "id": "95867639",
   "metadata": {},
   "outputs": [],
   "source": [
    "def remove_duplicate(bus):\n",
    "    nice_list=[]\n",
    "    for i in bus:\n",
    "        if i not in nice_list:\n",
    "            nice_list.append(i)\n",
    "    return nice_list        "
   ]
  },
  {
   "cell_type": "code",
   "execution_count": 136,
   "id": "8c92c019",
   "metadata": {},
   "outputs": [
    {
     "data": {
      "text/plain": [
       "['Sangam', 'Diamond', 'Kalash', 'Bhagyashree', 'Diamond', 'SNS', 'SNS']"
      ]
     },
     "execution_count": 136,
     "metadata": {},
     "output_type": "execute_result"
    }
   ],
   "source": [
    "bus"
   ]
  },
  {
   "cell_type": "code",
   "execution_count": 132,
   "id": "cfaf0714",
   "metadata": {},
   "outputs": [],
   "source": [
    "def remove_duplicate_set(bus):\n",
    "    return list(set(bus))\n",
    "   \n",
    "    \n",
    "    "
   ]
  },
  {
   "cell_type": "code",
   "execution_count": 140,
   "id": "2dd6b81d",
   "metadata": {},
   "outputs": [
    {
     "data": {
      "text/plain": [
       "['Bhagyashree', 'Sangam', 'Diamond', 'SNS', 'Kalash']"
      ]
     },
     "execution_count": 140,
     "metadata": {},
     "output_type": "execute_result"
    }
   ],
   "source": [
    "remove_duplicate_set(bus)"
   ]
  },
  {
   "cell_type": "code",
   "execution_count": 465,
   "id": "7c713c16",
   "metadata": {},
   "outputs": [
    {
     "data": {
      "text/plain": [
       "['Sangam', 'Diamond', 'Kalash', 'Bhagyashree', 'SNS']"
      ]
     },
     "execution_count": 138,
     "metadata": {},
     "output_type": "execute_result"
    }
   ],
   "source": [
    "remove_duplicate(bus)"
   ]
  },
  {
   "cell_type": "code",
   "execution_count": 134,
   "id": "187122f7",
   "metadata": {},
   "outputs": [],
   "source": [
    "bus=['Sangam','Diamond','Kalash','Bhagyashree','Diamond','SNS','SNS']"
   ]
  },
  {
   "cell_type": "code",
   "execution_count": 135,
   "id": "d0547b2b",
   "metadata": {},
   "outputs": [
    {
     "data": {
      "text/plain": [
       "['Sangam', 'Diamond', 'Kalash', 'Bhagyashree', 'Diamond', 'SNS', 'SNS']"
      ]
     },
     "execution_count": 135,
     "metadata": {},
     "output_type": "execute_result"
    }
   ],
   "source": [
    "bus"
   ]
  },
  {
   "cell_type": "code",
   "execution_count": 474,
   "id": "49b7a601",
   "metadata": {},
   "outputs": [
    {
     "data": {
      "text/plain": [
       "{'Bhagyashree', 'Diamond', 'Kalash', 'SNS', 'Sangam'}"
      ]
     },
     "execution_count": 474,
     "metadata": {},
     "output_type": "execute_result"
    }
   ],
   "source": [
    "set(bus)"
   ]
  },
  {
   "cell_type": "code",
   "execution_count": 141,
   "id": "6e7e6c73",
   "metadata": {},
   "outputs": [],
   "source": [
    "# Tuples"
   ]
  },
  {
   "cell_type": "code",
   "execution_count": 144,
   "id": "6a18bf39",
   "metadata": {},
   "outputs": [],
   "source": [
    "tup=(1,2,3,4,5,6,7,8,9,0)"
   ]
  },
  {
   "cell_type": "code",
   "execution_count": 145,
   "id": "c33db1be",
   "metadata": {},
   "outputs": [
    {
     "data": {
      "text/plain": [
       "(1, 2, 3, 4, 5, 6, 7, 8, 9, 0)"
      ]
     },
     "execution_count": 145,
     "metadata": {},
     "output_type": "execute_result"
    }
   ],
   "source": [
    "tup"
   ]
  },
  {
   "cell_type": "code",
   "execution_count": 150,
   "id": "7fb61f50",
   "metadata": {},
   "outputs": [],
   "source": [
    "tup1=(7,)"
   ]
  },
  {
   "cell_type": "code",
   "execution_count": 151,
   "id": "be6dd7b9",
   "metadata": {},
   "outputs": [
    {
     "data": {
      "text/plain": [
       "tuple"
      ]
     },
     "execution_count": 151,
     "metadata": {},
     "output_type": "execute_result"
    }
   ],
   "source": [
    "type(tup1)"
   ]
  },
  {
   "cell_type": "code",
   "execution_count": 155,
   "id": "215d7439",
   "metadata": {},
   "outputs": [
    {
     "data": {
      "text/plain": [
       "(0, 9, 8, 7)"
      ]
     },
     "execution_count": 155,
     "metadata": {},
     "output_type": "execute_result"
    }
   ],
   "source": [
    "tup[-1:-5:-1]"
   ]
  },
  {
   "cell_type": "code",
   "execution_count": 156,
   "id": "b383a0e7",
   "metadata": {},
   "outputs": [
    {
     "data": {
      "text/plain": [
       "(1, 2, 3, 4, 5, 6, 7, 8, 9, 0)"
      ]
     },
     "execution_count": 156,
     "metadata": {},
     "output_type": "execute_result"
    }
   ],
   "source": [
    "tup"
   ]
  },
  {
   "cell_type": "code",
   "execution_count": null,
   "id": "0fba9998",
   "metadata": {},
   "outputs": [],
   "source": [
    "# Since Tuples are immutable . So they cannot be edited neither added nor delete"
   ]
  },
  {
   "cell_type": "code",
   "execution_count": 158,
   "id": "3ed4e054",
   "metadata": {},
   "outputs": [
    {
     "data": {
      "text/plain": [
       "(7,)"
      ]
     },
     "execution_count": 158,
     "metadata": {},
     "output_type": "execute_result"
    }
   ],
   "source": [
    "tup1"
   ]
  },
  {
   "cell_type": "code",
   "execution_count": 159,
   "id": "c5f3c2bc",
   "metadata": {},
   "outputs": [
    {
     "data": {
      "text/plain": [
       "(1, 2, 3, 4, 5, 6, 7, 8, 9, 0)"
      ]
     },
     "execution_count": 159,
     "metadata": {},
     "output_type": "execute_result"
    }
   ],
   "source": [
    "tup"
   ]
  },
  {
   "cell_type": "code",
   "execution_count": 166,
   "id": "968768b3",
   "metadata": {},
   "outputs": [
    {
     "data": {
      "text/plain": [
       "(7, 7, 7, 7, 7)"
      ]
     },
     "execution_count": 166,
     "metadata": {},
     "output_type": "execute_result"
    }
   ],
   "source": [
    "tup1*5"
   ]
  },
  {
   "cell_type": "code",
   "execution_count": 167,
   "id": "2ce03467",
   "metadata": {},
   "outputs": [
    {
     "name": "stdout",
     "output_type": "stream",
     "text": [
      "1\n",
      "2\n",
      "3\n",
      "4\n",
      "5\n",
      "6\n",
      "7\n",
      "8\n",
      "9\n",
      "0\n"
     ]
    }
   ],
   "source": [
    "for i in tup:\n",
    "    \n",
    "    print(i)"
   ]
  },
  {
   "cell_type": "code",
   "execution_count": 176,
   "id": "56f1b32e",
   "metadata": {},
   "outputs": [],
   "source": [
    "def remove_duplicated(tups):\n",
    "    \n",
    "    tup=tuple(set(tups))\n",
    "    return tup\n",
    "       "
   ]
  },
  {
   "cell_type": "code",
   "execution_count": 174,
   "id": "c7334196",
   "metadata": {},
   "outputs": [],
   "source": [
    "tup2=(1,1,1,2,3,4,4)"
   ]
  },
  {
   "cell_type": "code",
   "execution_count": 177,
   "id": "e2b5f9f3",
   "metadata": {},
   "outputs": [
    {
     "data": {
      "text/plain": [
       "(1, 2, 3, 4)"
      ]
     },
     "execution_count": 177,
     "metadata": {},
     "output_type": "execute_result"
    }
   ],
   "source": [
    "remove_duplicated(tup2)"
   ]
  },
  {
   "cell_type": "code",
   "execution_count": 178,
   "id": "3944022d",
   "metadata": {},
   "outputs": [
    {
     "data": {
      "text/plain": [
       "16"
      ]
     },
     "execution_count": 178,
     "metadata": {},
     "output_type": "execute_result"
    }
   ],
   "source": [
    "sum(tup)"
   ]
  },
  {
   "cell_type": "code",
   "execution_count": 180,
   "id": "fa4f18b3",
   "metadata": {},
   "outputs": [
    {
     "data": {
      "text/plain": [
       "[1, 1, 1, 2, 3, 4, 4]"
      ]
     },
     "execution_count": 180,
     "metadata": {},
     "output_type": "execute_result"
    }
   ],
   "source": [
    "sorted(tup2)"
   ]
  },
  {
   "cell_type": "code",
   "execution_count": null,
   "id": "d2f875d6",
   "metadata": {},
   "outputs": [],
   "source": [
    "# Python Sets"
   ]
  },
  {
   "cell_type": "code",
   "execution_count": 181,
   "id": "730e4f4e",
   "metadata": {},
   "outputs": [],
   "source": [
    "# Sets donot allow duplicates\n",
    "# Sets donot have indexing and slicing \n",
    "# Sets donot allow mutuable data types\n",
    "# Sets itself is a mutuable data type"
   ]
  },
  {
   "cell_type": "code",
   "execution_count": 183,
   "id": "ccc16d0d",
   "metadata": {},
   "outputs": [
    {
     "data": {
      "text/plain": [
       "set"
      ]
     },
     "execution_count": 183,
     "metadata": {},
     "output_type": "execute_result"
    }
   ],
   "source": [
    "s1=set()\n",
    "type(s1)"
   ]
  },
  {
   "cell_type": "code",
   "execution_count": 185,
   "id": "cdeb8ac6",
   "metadata": {},
   "outputs": [],
   "source": [
    "s1={1,2,3,4,5}\n",
    "s2={'rijan',65,8.90}"
   ]
  },
  {
   "cell_type": "code",
   "execution_count": 186,
   "id": "fb2a58dd",
   "metadata": {},
   "outputs": [],
   "source": [
    "s3={3,4,3,4,5,67,8}"
   ]
  },
  {
   "cell_type": "code",
   "execution_count": 187,
   "id": "cdec4122",
   "metadata": {},
   "outputs": [
    {
     "data": {
      "text/plain": [
       "{3, 4, 5, 8, 67}"
      ]
     },
     "execution_count": 187,
     "metadata": {},
     "output_type": "execute_result"
    }
   ],
   "source": [
    "s3"
   ]
  },
  {
   "cell_type": "code",
   "execution_count": 188,
   "id": "16d714be",
   "metadata": {},
   "outputs": [],
   "source": [
    "s4={(1,2,34,5),'rijan'}"
   ]
  },
  {
   "cell_type": "code",
   "execution_count": 192,
   "id": "af833e03",
   "metadata": {},
   "outputs": [
    {
     "data": {
      "text/plain": [
       "{(1, 2, 34, 5), 'rijan'}"
      ]
     },
     "execution_count": 192,
     "metadata": {},
     "output_type": "execute_result"
    }
   ],
   "source": [
    "s4"
   ]
  },
  {
   "cell_type": "code",
   "execution_count": 198,
   "id": "7d89aa30",
   "metadata": {},
   "outputs": [
    {
     "data": {
      "text/plain": [
       "{1, 2, 3, 4, 5}"
      ]
     },
     "execution_count": 198,
     "metadata": {},
     "output_type": "execute_result"
    }
   ],
   "source": [
    "s1"
   ]
  },
  {
   "cell_type": "code",
   "execution_count": 194,
   "id": "2b704587",
   "metadata": {},
   "outputs": [],
   "source": [
    "s1.add(78)"
   ]
  },
  {
   "cell_type": "code",
   "execution_count": 197,
   "id": "7d0daf14",
   "metadata": {},
   "outputs": [],
   "source": [
    "s1.remove(78)"
   ]
  },
  {
   "cell_type": "code",
   "execution_count": 199,
   "id": "dceacde2",
   "metadata": {},
   "outputs": [
    {
     "data": {
      "text/plain": [
       "{1, 2, 3, 4, 5}"
      ]
     },
     "execution_count": 199,
     "metadata": {},
     "output_type": "execute_result"
    }
   ],
   "source": [
    "s1"
   ]
  },
  {
   "cell_type": "code",
   "execution_count": 200,
   "id": "3b0fc1bc",
   "metadata": {},
   "outputs": [],
   "source": [
    "s2={5,4,6,7,9,0,9,8}"
   ]
  },
  {
   "cell_type": "code",
   "execution_count": 201,
   "id": "80fdd0b2",
   "metadata": {},
   "outputs": [
    {
     "data": {
      "text/plain": [
       "{0, 4, 5, 6, 7, 8, 9}"
      ]
     },
     "execution_count": 201,
     "metadata": {},
     "output_type": "execute_result"
    }
   ],
   "source": [
    "s2"
   ]
  },
  {
   "cell_type": "code",
   "execution_count": 203,
   "id": "ff34f7a3",
   "metadata": {},
   "outputs": [
    {
     "name": "stdout",
     "output_type": "stream",
     "text": [
      "1\n",
      "2\n",
      "3\n",
      "4\n",
      "5\n"
     ]
    }
   ],
   "source": [
    "for i in s1:\n",
    "    print(i)"
   ]
  },
  {
   "cell_type": "code",
   "execution_count": 204,
   "id": "91493ade",
   "metadata": {},
   "outputs": [
    {
     "data": {
      "text/plain": [
       "False"
      ]
     },
     "execution_count": 204,
     "metadata": {},
     "output_type": "execute_result"
    }
   ],
   "source": [
    "100 in s2"
   ]
  },
  {
   "cell_type": "code",
   "execution_count": 209,
   "id": "0190d0cf",
   "metadata": {},
   "outputs": [
    {
     "data": {
      "text/plain": [
       "[5, 4, 3, 2, 1]"
      ]
     },
     "execution_count": 209,
     "metadata": {},
     "output_type": "execute_result"
    }
   ],
   "source": [
    "sorted(s1,reverse=True)"
   ]
  },
  {
   "cell_type": "code",
   "execution_count": 210,
   "id": "20ec14f1",
   "metadata": {},
   "outputs": [
    {
     "data": {
      "text/plain": [
       "{0, 1, 2, 3, 4, 5, 6, 7, 8, 9}"
      ]
     },
     "execution_count": 210,
     "metadata": {},
     "output_type": "execute_result"
    }
   ],
   "source": [
    "s1.union(s2)"
   ]
  },
  {
   "cell_type": "code",
   "execution_count": 211,
   "id": "b6aa475a",
   "metadata": {},
   "outputs": [
    {
     "data": {
      "text/plain": [
       "{4, 5}"
      ]
     },
     "execution_count": 211,
     "metadata": {},
     "output_type": "execute_result"
    }
   ],
   "source": [
    "s1.intersection(s2)"
   ]
  },
  {
   "cell_type": "code",
   "execution_count": 212,
   "id": "b3420775",
   "metadata": {},
   "outputs": [
    {
     "data": {
      "text/plain": [
       "{1, 2, 3, 4, 5}"
      ]
     },
     "execution_count": 212,
     "metadata": {},
     "output_type": "execute_result"
    }
   ],
   "source": [
    "s1"
   ]
  },
  {
   "cell_type": "code",
   "execution_count": 213,
   "id": "88376264",
   "metadata": {},
   "outputs": [
    {
     "data": {
      "text/plain": [
       "{0, 4, 5, 6, 7, 8, 9}"
      ]
     },
     "execution_count": 213,
     "metadata": {},
     "output_type": "execute_result"
    }
   ],
   "source": [
    "s2"
   ]
  },
  {
   "cell_type": "code",
   "execution_count": 214,
   "id": "cd8791a5",
   "metadata": {},
   "outputs": [
    {
     "data": {
      "text/plain": [
       "False"
      ]
     },
     "execution_count": 214,
     "metadata": {},
     "output_type": "execute_result"
    }
   ],
   "source": [
    "s1.issuperset(s2)"
   ]
  },
  {
   "cell_type": "code",
   "execution_count": 215,
   "id": "ddd63caa",
   "metadata": {},
   "outputs": [
    {
     "data": {
      "text/plain": [
       "{1, 2, 3}"
      ]
     },
     "execution_count": 215,
     "metadata": {},
     "output_type": "execute_result"
    }
   ],
   "source": [
    "s1.difference(s2)"
   ]
  },
  {
   "cell_type": "code",
   "execution_count": 216,
   "id": "340ac62c",
   "metadata": {},
   "outputs": [],
   "source": [
    "s1.intersection_update(s2)"
   ]
  },
  {
   "cell_type": "code",
   "execution_count": null,
   "id": "b54e1c32",
   "metadata": {},
   "outputs": [],
   "source": [
    "# Dictionary\n",
    "# Dictionary has no indexing\n",
    "# Keys should be immutuable ......but values should be mutuable\n",
    "# Keys should be unique"
   ]
  },
  {
   "cell_type": "code",
   "execution_count": 3,
   "id": "2869861a",
   "metadata": {},
   "outputs": [],
   "source": [
    "D={'Name':'Rijan Pokhrel','Gender':'Male'}"
   ]
  },
  {
   "cell_type": "code",
   "execution_count": 4,
   "id": "4f7c9a62",
   "metadata": {},
   "outputs": [
    {
     "data": {
      "text/plain": [
       "dict"
      ]
     },
     "execution_count": 4,
     "metadata": {},
     "output_type": "execute_result"
    }
   ],
   "source": [
    "type(D)"
   ]
  },
  {
   "cell_type": "code",
   "execution_count": 5,
   "id": "4a8c065d",
   "metadata": {},
   "outputs": [
    {
     "data": {
      "text/plain": [
       "{'Name': 'Rijan Pokhrel', 'Gender': 'Male'}"
      ]
     },
     "execution_count": 5,
     "metadata": {},
     "output_type": "execute_result"
    }
   ],
   "source": [
    "D"
   ]
  },
  {
   "cell_type": "code",
   "execution_count": 11,
   "id": "08a2b5d9",
   "metadata": {},
   "outputs": [],
   "source": [
    "D1={(1,2,3):'SangamAC',(1,2,3):'SampurnaAC'}"
   ]
  },
  {
   "cell_type": "code",
   "execution_count": 13,
   "id": "62b5ba24",
   "metadata": {},
   "outputs": [
    {
     "data": {
      "text/plain": [
       "{(1, 2, 3): 'SampurnaAC'}"
      ]
     },
     "execution_count": 13,
     "metadata": {},
     "output_type": "execute_result"
    }
   ],
   "source": [
    "D1"
   ]
  },
  {
   "cell_type": "code",
   "execution_count": 14,
   "id": "106f6064",
   "metadata": {},
   "outputs": [],
   "source": [
    "gadi={'Name':'Sangam','Route':'Birgunj','Collection':{'Price':'1000','Type':'AC'}}"
   ]
  },
  {
   "cell_type": "code",
   "execution_count": 15,
   "id": "9151ddae",
   "metadata": {},
   "outputs": [
    {
     "data": {
      "text/plain": [
       "{'Name': 'Sangam',\n",
       " 'Route': 'Birgunj',\n",
       " 'Collection': {'Price': '1000', 'Type': 'AC'}}"
      ]
     },
     "execution_count": 15,
     "metadata": {},
     "output_type": "execute_result"
    }
   ],
   "source": [
    "gadi"
   ]
  },
  {
   "cell_type": "code",
   "execution_count": 16,
   "id": "6bfd8702",
   "metadata": {},
   "outputs": [
    {
     "data": {
      "text/plain": [
       "'Birgunj'"
      ]
     },
     "execution_count": 16,
     "metadata": {},
     "output_type": "execute_result"
    }
   ],
   "source": [
    "gadi['Route']"
   ]
  },
  {
   "cell_type": "code",
   "execution_count": 18,
   "id": "3a382a69",
   "metadata": {},
   "outputs": [
    {
     "data": {
      "text/plain": [
       "'1000'"
      ]
     },
     "execution_count": 18,
     "metadata": {},
     "output_type": "execute_result"
    }
   ],
   "source": [
    "gadi['Collection']['Price']"
   ]
  },
  {
   "cell_type": "code",
   "execution_count": 19,
   "id": "f2a6438e",
   "metadata": {},
   "outputs": [],
   "source": [
    "gadi['Route']='Satgunj'"
   ]
  },
  {
   "cell_type": "code",
   "execution_count": 20,
   "id": "68fb2ca3",
   "metadata": {},
   "outputs": [
    {
     "data": {
      "text/plain": [
       "{'Name': 'Sangam',\n",
       " 'Route': 'Satgunj',\n",
       " 'Collection': {'Price': '1000', 'Type': 'AC'}}"
      ]
     },
     "execution_count": 20,
     "metadata": {},
     "output_type": "execute_result"
    }
   ],
   "source": [
    "gadi"
   ]
  },
  {
   "cell_type": "code",
   "execution_count": 21,
   "id": "0510fe65",
   "metadata": {},
   "outputs": [],
   "source": [
    "gadi['Collection']['Price']=1200"
   ]
  },
  {
   "cell_type": "code",
   "execution_count": 22,
   "id": "3b682fe0",
   "metadata": {},
   "outputs": [
    {
     "data": {
      "text/plain": [
       "{'Name': 'Sangam',\n",
       " 'Route': 'Satgunj',\n",
       " 'Collection': {'Price': 1200, 'Type': 'AC'}}"
      ]
     },
     "execution_count": 22,
     "metadata": {},
     "output_type": "execute_result"
    }
   ],
   "source": [
    "gadi"
   ]
  },
  {
   "cell_type": "code",
   "execution_count": 23,
   "id": "4e18ae19",
   "metadata": {},
   "outputs": [],
   "source": [
    "gadi['Collection']['counter']='Kalaiya'"
   ]
  },
  {
   "cell_type": "code",
   "execution_count": 24,
   "id": "06c7d178",
   "metadata": {},
   "outputs": [
    {
     "data": {
      "text/plain": [
       "{'Name': 'Sangam',\n",
       " 'Route': 'Satgunj',\n",
       " 'Collection': {'Price': 1200, 'Type': 'AC', 'counter': 'Kalaiya'}}"
      ]
     },
     "execution_count": 24,
     "metadata": {},
     "output_type": "execute_result"
    }
   ],
   "source": [
    "gadi"
   ]
  },
  {
   "cell_type": "code",
   "execution_count": 25,
   "id": "924a5e75",
   "metadata": {},
   "outputs": [],
   "source": [
    "gadi['Information']=gadi.pop('Collection')"
   ]
  },
  {
   "cell_type": "code",
   "execution_count": 26,
   "id": "58929aa7",
   "metadata": {},
   "outputs": [
    {
     "data": {
      "text/plain": [
       "{'Name': 'Sangam',\n",
       " 'Route': 'Satgunj',\n",
       " 'Information': {'Price': 1200, 'Type': 'AC', 'counter': 'Kalaiya'}}"
      ]
     },
     "execution_count": 26,
     "metadata": {},
     "output_type": "execute_result"
    }
   ],
   "source": [
    "gadi"
   ]
  },
  {
   "cell_type": "code",
   "execution_count": 28,
   "id": "52f391d5",
   "metadata": {},
   "outputs": [
    {
     "name": "stdout",
     "output_type": "stream",
     "text": [
      "Name Sangam\n",
      "Route Satgunj\n",
      "Information {'Price': 1200, 'Type': 'AC', 'counter': 'Kalaiya'}\n"
     ]
    }
   ],
   "source": [
    "for i in gadi:\n",
    "    print(i,gadi[i])"
   ]
  },
  {
   "cell_type": "code",
   "execution_count": 34,
   "id": "1adcb291",
   "metadata": {},
   "outputs": [
    {
     "name": "stdout",
     "output_type": "stream",
     "text": [
      "Price :  1200\n",
      "Type :  AC\n",
      "counter :  Kalaiya\n"
     ]
    }
   ],
   "source": [
    "for i in gadi['Information']:\n",
    "    print(i+' : ',gadi['Information'][i])"
   ]
  },
  {
   "cell_type": "code",
   "execution_count": 35,
   "id": "992458c5",
   "metadata": {},
   "outputs": [
    {
     "data": {
      "text/plain": [
       "{'Name': 'Sangam',\n",
       " 'Route': 'Satgunj',\n",
       " 'Information': {'Price': 1200, 'Type': 'AC', 'counter': 'Kalaiya'}}"
      ]
     },
     "execution_count": 35,
     "metadata": {},
     "output_type": "execute_result"
    }
   ],
   "source": [
    "gadi"
   ]
  },
  {
   "cell_type": "code",
   "execution_count": 39,
   "id": "7d562a13",
   "metadata": {},
   "outputs": [
    {
     "data": {
      "text/plain": [
       "False"
      ]
     },
     "execution_count": 39,
     "metadata": {},
     "output_type": "execute_result"
    }
   ],
   "source": [
    "'Route' in gadi['Information']"
   ]
  },
  {
   "cell_type": "code",
   "execution_count": 41,
   "id": "6d47ba7a",
   "metadata": {},
   "outputs": [
    {
     "data": {
      "text/plain": [
       "dict_keys(['Name', 'Route', 'Information'])"
      ]
     },
     "execution_count": 41,
     "metadata": {},
     "output_type": "execute_result"
    }
   ],
   "source": [
    "gadi.keys()"
   ]
  },
  {
   "cell_type": "code",
   "execution_count": 113,
   "id": "9ed71d49",
   "metadata": {},
   "outputs": [
    {
     "ename": "NameError",
     "evalue": "name 'gadi' is not defined",
     "output_type": "error",
     "traceback": [
      "\u001b[1;31m---------------------------------------------------------------------------\u001b[0m",
      "\u001b[1;31mNameError\u001b[0m                                 Traceback (most recent call last)",
      "Cell \u001b[1;32mIn[113], line 1\u001b[0m\n\u001b[1;32m----> 1\u001b[0m \u001b[43mgadi\u001b[49m\n",
      "\u001b[1;31mNameError\u001b[0m: name 'gadi' is not defined"
     ]
    }
   ],
   "source": [
    "gadi"
   ]
  },
  {
   "cell_type": "code",
   "execution_count": 66,
   "id": "28c0ae68",
   "metadata": {},
   "outputs": [
    {
     "name": "stdout",
     "output_type": "stream",
     "text": [
      "Name: Sangam\n",
      "Route: Satgunj\n",
      "Information: {'Price': 1200, 'Type': 'AC', 'counter': 'Kalaiya'}\n"
     ]
    }
   ],
   "source": [
    "for key,value in gadi.items():\n",
    "    print(key+':',value)"
   ]
  },
  {
   "cell_type": "code",
   "execution_count": 42,
   "id": "b3cc0445",
   "metadata": {},
   "outputs": [
    {
     "data": {
      "text/plain": [
       "dict_values(['Sangam', 'Satgunj', {'Price': 1200, 'Type': 'AC', 'counter': 'Kalaiya'}])"
      ]
     },
     "execution_count": 42,
     "metadata": {},
     "output_type": "execute_result"
    }
   ],
   "source": [
    "gadi.values()"
   ]
  },
  {
   "cell_type": "code",
   "execution_count": null,
   "id": "01c25c68",
   "metadata": {},
   "outputs": [],
   "source": [
    "# Functions in Pythons"
   ]
  },
  {
   "cell_type": "code",
   "execution_count": 43,
   "id": "d6989037",
   "metadata": {},
   "outputs": [],
   "source": [
    "def is_even(x):\n",
    "    return True if x%2==0 else False"
   ]
  },
  {
   "cell_type": "code",
   "execution_count": 44,
   "id": "69f36221",
   "metadata": {},
   "outputs": [
    {
     "data": {
      "text/plain": [
       "False"
      ]
     },
     "execution_count": 44,
     "metadata": {},
     "output_type": "execute_result"
    }
   ],
   "source": [
    "is_even(3)"
   ]
  },
  {
   "cell_type": "code",
   "execution_count": 45,
   "id": "a7ea7408",
   "metadata": {},
   "outputs": [
    {
     "data": {
      "text/plain": [
       "True"
      ]
     },
     "execution_count": 45,
     "metadata": {},
     "output_type": "execute_result"
    }
   ],
   "source": [
    "is_even(2)"
   ]
  },
  {
   "cell_type": "code",
   "execution_count": 48,
   "id": "cc9bfa4a",
   "metadata": {},
   "outputs": [
    {
     "name": "stdout",
     "output_type": "stream",
     "text": [
      "True\n",
      "False\n",
      "True\n",
      "False\n",
      "True\n",
      "False\n",
      "True\n",
      "False\n",
      "True\n",
      "False\n",
      "True\n",
      "False\n"
     ]
    }
   ],
   "source": [
    "for i in range(12):\n",
    "   print(is_even(i))"
   ]
  },
  {
   "cell_type": "code",
   "execution_count": 49,
   "id": "22c6b937",
   "metadata": {},
   "outputs": [],
   "source": [
    "# Parameters in Pythons\n",
    "# 1. Default Arguments\n",
    "# 2. Positional Arguments\n",
    "# 3. Keyword Arguments\n",
    "# 4. Arbitrary Arguments"
   ]
  },
  {
   "cell_type": "code",
   "execution_count": 58,
   "id": "a25f2c7d",
   "metadata": {},
   "outputs": [],
   "source": [
    "def power(a=2,b=2):\n",
    "    return a**b"
   ]
  },
  {
   "cell_type": "code",
   "execution_count": 63,
   "id": "9b0abb22",
   "metadata": {},
   "outputs": [
    {
     "data": {
      "text/plain": [
       "1024"
      ]
     },
     "execution_count": 63,
     "metadata": {},
     "output_type": "execute_result"
    }
   ],
   "source": [
    "power(b=10,a=2)"
   ]
  },
  {
   "cell_type": "code",
   "execution_count": 68,
   "id": "d130615c",
   "metadata": {},
   "outputs": [],
   "source": [
    "def product(*args):\n",
    "    pro=1\n",
    "    for i in args:\n",
    "        pro=pro*i\n",
    "    print(pro)    "
   ]
  },
  {
   "cell_type": "code",
   "execution_count": 72,
   "id": "5da2e48f",
   "metadata": {},
   "outputs": [
    {
     "name": "stdout",
     "output_type": "stream",
     "text": [
      "2\n"
     ]
    }
   ],
   "source": [
    "product(1,2)"
   ]
  },
  {
   "cell_type": "code",
   "execution_count": null,
   "id": "bd4d0e92",
   "metadata": {},
   "outputs": [],
   "source": [
    "# Everything in a python is an object"
   ]
  },
  {
   "cell_type": "code",
   "execution_count": 88,
   "id": "047d89a3",
   "metadata": {},
   "outputs": [],
   "source": [
    "def func(x):\n",
    "    return pow(x,3)"
   ]
  },
  {
   "cell_type": "code",
   "execution_count": 81,
   "id": "0cba80de",
   "metadata": {},
   "outputs": [
    {
     "data": {
      "text/plain": [
       "64"
      ]
     },
     "execution_count": 81,
     "metadata": {},
     "output_type": "execute_result"
    }
   ],
   "source": [
    "func(8)"
   ]
  },
  {
   "cell_type": "code",
   "execution_count": 90,
   "id": "44729634",
   "metadata": {},
   "outputs": [],
   "source": [
    "x=func"
   ]
  },
  {
   "cell_type": "code",
   "execution_count": 91,
   "id": "1b1b3949",
   "metadata": {},
   "outputs": [
    {
     "data": {
      "text/plain": [
       "216"
      ]
     },
     "execution_count": 91,
     "metadata": {},
     "output_type": "execute_result"
    }
   ],
   "source": [
    "x(6)"
   ]
  },
  {
   "cell_type": "code",
   "execution_count": 92,
   "id": "7dfce124",
   "metadata": {},
   "outputs": [],
   "source": [
    "y=x"
   ]
  },
  {
   "cell_type": "code",
   "execution_count": 93,
   "id": "a44fb2ac",
   "metadata": {},
   "outputs": [
    {
     "data": {
      "text/plain": [
       "729"
      ]
     },
     "execution_count": 93,
     "metadata": {},
     "output_type": "execute_result"
    }
   ],
   "source": [
    "y(9)"
   ]
  },
  {
   "cell_type": "code",
   "execution_count": 94,
   "id": "10080fee",
   "metadata": {},
   "outputs": [
    {
     "data": {
      "text/plain": [
       "function"
      ]
     },
     "execution_count": 94,
     "metadata": {},
     "output_type": "execute_result"
    }
   ],
   "source": [
    "type(x)"
   ]
  },
  {
   "cell_type": "code",
   "execution_count": 95,
   "id": "d816565e",
   "metadata": {},
   "outputs": [],
   "source": [
    "del x"
   ]
  },
  {
   "cell_type": "code",
   "execution_count": 96,
   "id": "09c06b1b",
   "metadata": {},
   "outputs": [
    {
     "data": {
      "text/plain": [
       "343"
      ]
     },
     "execution_count": 96,
     "metadata": {},
     "output_type": "execute_result"
    }
   ],
   "source": [
    "y(7)"
   ]
  },
  {
   "cell_type": "code",
   "execution_count": 97,
   "id": "4b279311",
   "metadata": {},
   "outputs": [
    {
     "data": {
      "text/plain": [
       "function"
      ]
     },
     "execution_count": 97,
     "metadata": {},
     "output_type": "execute_result"
    }
   ],
   "source": [
    "type(y)"
   ]
  },
  {
   "cell_type": "code",
   "execution_count": 102,
   "id": "9d3ece9d",
   "metadata": {},
   "outputs": [],
   "source": [
    "L=[1,2,5,6,7,8,y(5)]"
   ]
  },
  {
   "cell_type": "code",
   "execution_count": 103,
   "id": "0f6f5f2a",
   "metadata": {},
   "outputs": [
    {
     "name": "stdout",
     "output_type": "stream",
     "text": [
      "1\n",
      "2\n",
      "5\n",
      "6\n",
      "7\n",
      "8\n",
      "125\n"
     ]
    }
   ],
   "source": [
    "for i in L:\n",
    "    print(i)"
   ]
  },
  {
   "cell_type": "code",
   "execution_count": 104,
   "id": "3917a122",
   "metadata": {},
   "outputs": [],
   "source": [
    "# Recursion using Pythons"
   ]
  },
  {
   "cell_type": "code",
   "execution_count": 107,
   "id": "1efa05e5",
   "metadata": {},
   "outputs": [],
   "source": [
    "def multiply(x,y):\n",
    "    add=0\n",
    "    for i in range(y):\n",
    "        add=add+x\n",
    "    print(add)"
   ]
  },
  {
   "cell_type": "code",
   "execution_count": 109,
   "id": "53b3f441",
   "metadata": {},
   "outputs": [
    {
     "name": "stdout",
     "output_type": "stream",
     "text": [
      "27\n"
     ]
    }
   ],
   "source": [
    "multiply(3,9)"
   ]
  },
  {
   "cell_type": "code",
   "execution_count": 122,
   "id": "d4a8157f",
   "metadata": {},
   "outputs": [],
   "source": [
    "def rec_multiply(x, y):\n",
    "    if y == 1:\n",
    "        return x\n",
    "    return x+rec_multiply(x, y-1)"
   ]
  },
  {
   "cell_type": "code",
   "execution_count": 125,
   "id": "de21e5ca",
   "metadata": {},
   "outputs": [
    {
     "data": {
      "text/plain": [
       "24"
      ]
     },
     "execution_count": 125,
     "metadata": {},
     "output_type": "execute_result"
    }
   ],
   "source": [
    "rec_multiply(3,8)"
   ]
  },
  {
   "cell_type": "code",
   "execution_count": 126,
   "id": "9ec3beee",
   "metadata": {},
   "outputs": [],
   "source": [
    "def factorial(x):\n",
    "    if x==0 or x==1:\n",
    "        return 1\n",
    "    return x*factorial(x-1)"
   ]
  },
  {
   "cell_type": "code",
   "execution_count": 131,
   "id": "f3521b25",
   "metadata": {},
   "outputs": [
    {
     "data": {
      "text/plain": [
       "120"
      ]
     },
     "execution_count": 131,
     "metadata": {},
     "output_type": "execute_result"
    }
   ],
   "source": [
    "factorial(5)"
   ]
  },
  {
   "cell_type": "code",
   "execution_count": 193,
   "id": "bdfe439c",
   "metadata": {},
   "outputs": [],
   "source": [
    "def palindrome(text):\n",
    "    if(len(text)<=1):\n",
    "        return True \n",
    "    if(text[-1]==text[0]):\n",
    "        return palindrome(text[1:-1])\n",
    "    else:\n",
    "        return False           \n",
    "        \n",
    "    \n",
    "            "
   ]
  },
  {
   "cell_type": "code",
   "execution_count": 194,
   "id": "f28c1b2c",
   "metadata": {},
   "outputs": [
    {
     "data": {
      "text/plain": [
       "True"
      ]
     },
     "execution_count": 194,
     "metadata": {},
     "output_type": "execute_result"
    }
   ],
   "source": [
    "palindrome('naban')"
   ]
  },
  {
   "cell_type": "code",
   "execution_count": 185,
   "id": "480668a6",
   "metadata": {},
   "outputs": [],
   "source": [
    "# rabbit Problem is a fiboannci problem"
   ]
  },
  {
   "cell_type": "code",
   "execution_count": 197,
   "id": "5cc14c6b",
   "metadata": {},
   "outputs": [],
   "source": [
    "def fibo(x):\n",
    "    if(x<=1):\n",
    "        return x\n",
    "    else:\n",
    "        return fibo(x-1)+fibo(x-2)\n",
    "        "
   ]
  },
  {
   "cell_type": "code",
   "execution_count": 202,
   "id": "09924f1d",
   "metadata": {},
   "outputs": [
    {
     "data": {
      "text/plain": [
       "55"
      ]
     },
     "execution_count": 202,
     "metadata": {},
     "output_type": "execute_result"
    }
   ],
   "source": [
    "fibo(10)"
   ]
  },
  {
   "cell_type": "code",
   "execution_count": 8,
   "id": "c38ac025",
   "metadata": {},
   "outputs": [],
   "source": [
    "def memo_fibo(x,d={}):\n",
    "    if x<=1:\n",
    "        return x\n",
    "    if x in d:\n",
    "        return d[x]\n",
    "    d[x]=memo_fibo(x-1,d)+memo_fibo(x-2,d)\n",
    "    return d[x]"
   ]
  },
  {
   "cell_type": "code",
   "execution_count": 11,
   "id": "da281579",
   "metadata": {},
   "outputs": [
    {
     "data": {
      "text/plain": [
       "2584"
      ]
     },
     "execution_count": 11,
     "metadata": {},
     "output_type": "execute_result"
    }
   ],
   "source": [
    "memo_fibo(18)"
   ]
  },
  {
   "cell_type": "code",
   "execution_count": 13,
   "id": "36d81b66",
   "metadata": {},
   "outputs": [],
   "source": [
    "# Lambda functions\n",
    "\n",
    "# 1. Lambda has no return value. It itself returns the function\n",
    "# 2. It has no name \n",
    "# 3. It is not used for code reusability\n",
    "# 4. It is a one line code\n",
    "# 5. It is used along with the higher order functions"
   ]
  },
  {
   "cell_type": "code",
   "execution_count": 14,
   "id": "295e5bf8",
   "metadata": {},
   "outputs": [],
   "source": [
    "y=lambda x: x**2"
   ]
  },
  {
   "cell_type": "code",
   "execution_count": 15,
   "id": "0f8e9b8b",
   "metadata": {},
   "outputs": [
    {
     "data": {
      "text/plain": [
       "36"
      ]
     },
     "execution_count": 15,
     "metadata": {},
     "output_type": "execute_result"
    }
   ],
   "source": [
    "y(6)"
   ]
  },
  {
   "cell_type": "code",
   "execution_count": 16,
   "id": "f3a265cc",
   "metadata": {},
   "outputs": [],
   "source": [
    "z=lambda x,y: x+y"
   ]
  },
  {
   "cell_type": "code",
   "execution_count": 17,
   "id": "c849f6fd",
   "metadata": {},
   "outputs": [
    {
     "data": {
      "text/plain": [
       "5"
      ]
     },
     "execution_count": 17,
     "metadata": {},
     "output_type": "execute_result"
    }
   ],
   "source": [
    "z(2,3)"
   ]
  },
  {
   "cell_type": "code",
   "execution_count": 19,
   "id": "f357836e",
   "metadata": {},
   "outputs": [
    {
     "data": {
      "text/plain": [
       "False"
      ]
     },
     "execution_count": 19,
     "metadata": {},
     "output_type": "execute_result"
    }
   ],
   "source": [
    "b=lambda x:x[0]=='a'\n",
    "b('syau')"
   ]
  },
  {
   "cell_type": "code",
   "execution_count": 20,
   "id": "efbe803e",
   "metadata": {},
   "outputs": [],
   "source": [
    "b=lambda x: 'False' if x%2!=0 else 'True'"
   ]
  },
  {
   "cell_type": "code",
   "execution_count": 22,
   "id": "2ac003c3",
   "metadata": {},
   "outputs": [
    {
     "data": {
      "text/plain": [
       "'False'"
      ]
     },
     "execution_count": 22,
     "metadata": {},
     "output_type": "execute_result"
    }
   ],
   "source": [
    "b(7)"
   ]
  },
  {
   "cell_type": "code",
   "execution_count": null,
   "id": "e50a7668",
   "metadata": {},
   "outputs": [],
   "source": [
    "# Higher Order Functions"
   ]
  },
  {
   "cell_type": "code",
   "execution_count": 25,
   "id": "dc5df3f4",
   "metadata": {},
   "outputs": [
    {
     "name": "stdout",
     "output_type": "stream",
     "text": [
      "48\n",
      "81\n",
      "30\n"
     ]
    }
   ],
   "source": [
    "L=[1,2,3,4,5,6,7,8,5,5,3,2,4,5,7,6,5,4,35,6,6]\n",
    "def return_sum(func,L):\n",
    "    result=0\n",
    "    for i in L:\n",
    "        if func(i):\n",
    "            result=result+i\n",
    "    return result        \n",
    "\n",
    "x=lambda x:x%2==0\n",
    "y=lambda y:y%2!=0\n",
    "z=lambda z:z%3==0\n",
    "\n",
    "print(return_sum(x,L))\n",
    "print(return_sum(y,L))\n",
    "print(return_sum(z,L))\n",
    "    "
   ]
  },
  {
   "cell_type": "code",
   "execution_count": null,
   "id": "def5310c",
   "metadata": {},
   "outputs": [],
   "source": [
    "# Map\n",
    "# Map(function, Iterables)"
   ]
  },
  {
   "cell_type": "code",
   "execution_count": 32,
   "id": "78ed93fb",
   "metadata": {},
   "outputs": [],
   "source": [
    "L=[2,3,4,5,6,7,8,9,0]"
   ]
  },
  {
   "cell_type": "code",
   "execution_count": 33,
   "id": "1c9588f1",
   "metadata": {},
   "outputs": [
    {
     "data": {
      "text/plain": [
       "[8, 27, 64, 125, 216, 343, 512, 729, 0]"
      ]
     },
     "execution_count": 33,
     "metadata": {},
     "output_type": "execute_result"
    }
   ],
   "source": [
    "list(map(lambda x: pow(x,3),L))"
   ]
  },
  {
   "cell_type": "code",
   "execution_count": 35,
   "id": "452f46b9",
   "metadata": {},
   "outputs": [
    {
     "data": {
      "text/plain": [
       "['Even', 'Odd', 'Even', 'Odd', 'Even', 'Odd', 'Even', 'Odd', 'Even']"
      ]
     },
     "execution_count": 35,
     "metadata": {},
     "output_type": "execute_result"
    }
   ],
   "source": [
    "list(map(lambda x: 'Even' if x%2==0 else 'Odd',L))"
   ]
  },
  {
   "cell_type": "code",
   "execution_count": 36,
   "id": "4edf8158",
   "metadata": {},
   "outputs": [],
   "source": [
    "# Filter\n",
    "# filter(condition,Iterables)"
   ]
  },
  {
   "cell_type": "code",
   "execution_count": 39,
   "id": "d684bcc0",
   "metadata": {},
   "outputs": [
    {
     "data": {
      "text/plain": [
       "[4, 5, 6, 7, 8, 9]"
      ]
     },
     "execution_count": 39,
     "metadata": {},
     "output_type": "execute_result"
    }
   ],
   "source": [
    "list(filter(lambda x:x>3,L))"
   ]
  },
  {
   "cell_type": "code",
   "execution_count": 40,
   "id": "d84acbb3",
   "metadata": {},
   "outputs": [],
   "source": [
    "fruits=['Apple','Orange','Mango','Guava']"
   ]
  },
  {
   "cell_type": "code",
   "execution_count": 44,
   "id": "097fc481",
   "metadata": {},
   "outputs": [
    {
     "data": {
      "text/plain": [
       "['Orange', 'Mango']"
      ]
     },
     "execution_count": 44,
     "metadata": {},
     "output_type": "execute_result"
    }
   ],
   "source": [
    "list(filter(lambda x: 'o' in x.lower(),fruits))"
   ]
  },
  {
   "cell_type": "code",
   "execution_count": 45,
   "id": "09fa5239",
   "metadata": {},
   "outputs": [],
   "source": [
    "# Reduce\n",
    "# it reduces the size of the lists"
   ]
  },
  {
   "cell_type": "code",
   "execution_count": 47,
   "id": "6955843a",
   "metadata": {},
   "outputs": [
    {
     "data": {
      "text/plain": [
       "[2, 3, 4, 5, 6, 7, 8, 9, 0]"
      ]
     },
     "execution_count": 47,
     "metadata": {},
     "output_type": "execute_result"
    }
   ],
   "source": [
    "L"
   ]
  },
  {
   "cell_type": "code",
   "execution_count": 48,
   "id": "aa925ffc",
   "metadata": {},
   "outputs": [],
   "source": [
    "import functools as rd"
   ]
  },
  {
   "cell_type": "code",
   "execution_count": 49,
   "id": "57319288",
   "metadata": {},
   "outputs": [
    {
     "data": {
      "text/plain": [
       "44"
      ]
     },
     "execution_count": 49,
     "metadata": {},
     "output_type": "execute_result"
    }
   ],
   "source": [
    "rd.reduce(lambda x,y:x+y ,L)"
   ]
  },
  {
   "cell_type": "code",
   "execution_count": 50,
   "id": "ba17719d",
   "metadata": {},
   "outputs": [
    {
     "data": {
      "text/plain": [
       "[2, 3, 4, 5, 6, 7, 8, 9, 0]"
      ]
     },
     "execution_count": 50,
     "metadata": {},
     "output_type": "execute_result"
    }
   ],
   "source": [
    "L"
   ]
  },
  {
   "cell_type": "code",
   "execution_count": 66,
   "id": "fb557a4e",
   "metadata": {},
   "outputs": [],
   "source": [
    "# List Comprehension"
   ]
  },
  {
   "cell_type": "code",
   "execution_count": 67,
   "id": "fd6ae4e3",
   "metadata": {},
   "outputs": [
    {
     "data": {
      "text/plain": [
       "[1, 2, 3, 4, 5]"
      ]
     },
     "execution_count": 67,
     "metadata": {},
     "output_type": "execute_result"
    }
   ],
   "source": [
    "L"
   ]
  },
  {
   "cell_type": "code",
   "execution_count": 83,
   "id": "36590706",
   "metadata": {},
   "outputs": [],
   "source": [
    "L=[1,2,3,4,5,6,7,8,9,0]"
   ]
  },
  {
   "cell_type": "code",
   "execution_count": 84,
   "id": "72b85068",
   "metadata": {},
   "outputs": [
    {
     "data": {
      "text/plain": [
       "[1, 4, 9, 16, 25, 36, 49, 64, 81, 0]"
      ]
     },
     "execution_count": 84,
     "metadata": {},
     "output_type": "execute_result"
    }
   ],
   "source": [
    "list(map(lambda x: x**2,L))"
   ]
  },
  {
   "cell_type": "code",
   "execution_count": 86,
   "id": "91fe6f87",
   "metadata": {},
   "outputs": [],
   "source": [
    "L1=[x**2 for x in L]"
   ]
  },
  {
   "cell_type": "code",
   "execution_count": 87,
   "id": "058b8331",
   "metadata": {},
   "outputs": [
    {
     "data": {
      "text/plain": [
       "[1, 4, 9, 16, 25, 36, 49, 64, 81, 0]"
      ]
     },
     "execution_count": 87,
     "metadata": {},
     "output_type": "execute_result"
    }
   ],
   "source": [
    "L1"
   ]
  },
  {
   "cell_type": "code",
   "execution_count": 88,
   "id": "26e5d051",
   "metadata": {},
   "outputs": [
    {
     "data": {
      "text/plain": [
       "[1, 4, 9, 16, 25, 36, 49, 64, 81, 0]"
      ]
     },
     "execution_count": 88,
     "metadata": {},
     "output_type": "execute_result"
    }
   ],
   "source": [
    "L1"
   ]
  },
  {
   "cell_type": "code",
   "execution_count": 89,
   "id": "e5da266b",
   "metadata": {},
   "outputs": [],
   "source": [
    "L1=[pow(x,0.5) for x in L1 if x>=15]"
   ]
  },
  {
   "cell_type": "code",
   "execution_count": 90,
   "id": "10ff69f3",
   "metadata": {},
   "outputs": [
    {
     "data": {
      "text/plain": [
       "[4.0, 5.0, 6.0, 7.0, 8.0, 9.0]"
      ]
     },
     "execution_count": 90,
     "metadata": {},
     "output_type": "execute_result"
    }
   ],
   "source": [
    "L1"
   ]
  },
  {
   "cell_type": "code",
   "execution_count": 91,
   "id": "e3292c02",
   "metadata": {},
   "outputs": [
    {
     "data": {
      "text/plain": [
       "['Apple', 'Orange', 'Mango', 'Guava']"
      ]
     },
     "execution_count": 91,
     "metadata": {},
     "output_type": "execute_result"
    }
   ],
   "source": [
    "fruits"
   ]
  },
  {
   "cell_type": "code",
   "execution_count": 93,
   "id": "dda7a350",
   "metadata": {},
   "outputs": [
    {
     "data": {
      "text/plain": [
       "['Orange', 'Mango']"
      ]
     },
     "execution_count": 93,
     "metadata": {},
     "output_type": "execute_result"
    }
   ],
   "source": [
    "list_fruits=[x for x in fruits if 'o' in x.lower()]\n",
    "list_fruits"
   ]
  },
  {
   "cell_type": "code",
   "execution_count": 94,
   "id": "bf3e706a",
   "metadata": {},
   "outputs": [
    {
     "data": {
      "text/plain": [
       "[1, 2, 3, 4, 5, 6, 7, 8, 9, 0]"
      ]
     },
     "execution_count": 94,
     "metadata": {},
     "output_type": "execute_result"
    }
   ],
   "source": [
    "L"
   ]
  },
  {
   "cell_type": "code",
   "execution_count": 97,
   "id": "87bd9c3f",
   "metadata": {},
   "outputs": [
    {
     "data": {
      "text/plain": [
       "{1: 1, 2: 4, 3: 9, 4: 16, 5: 25, 6: 36, 7: 49, 8: 64, 9: 81, 0: 0}"
      ]
     },
     "execution_count": 97,
     "metadata": {},
     "output_type": "execute_result"
    }
   ],
   "source": [
    "D1={x:x**2 for x in L}\n",
    "D1"
   ]
  },
  {
   "cell_type": "code",
   "execution_count": null,
   "id": "81698141",
   "metadata": {},
   "outputs": [],
   "source": []
  },
  {
   "cell_type": "code",
   "execution_count": null,
   "id": "ad2f3a94",
   "metadata": {},
   "outputs": [],
   "source": []
  },
  {
   "cell_type": "code",
   "execution_count": null,
   "id": "647287c8",
   "metadata": {},
   "outputs": [],
   "source": []
  },
  {
   "cell_type": "code",
   "execution_count": null,
   "id": "ff4f9248",
   "metadata": {},
   "outputs": [],
   "source": []
  },
  {
   "cell_type": "code",
   "execution_count": null,
   "id": "de0072e1",
   "metadata": {},
   "outputs": [],
   "source": []
  },
  {
   "cell_type": "code",
   "execution_count": null,
   "id": "81392d3f",
   "metadata": {},
   "outputs": [],
   "source": []
  },
  {
   "cell_type": "code",
   "execution_count": null,
   "id": "6a7e3c5c",
   "metadata": {},
   "outputs": [],
   "source": []
  }
 ],
 "metadata": {
  "kernelspec": {
   "display_name": "Python 3 (ipykernel)",
   "language": "python",
   "name": "python3"
  },
  "language_info": {
   "codemirror_mode": {
    "name": "ipython",
    "version": 3
   },
   "file_extension": ".py",
   "mimetype": "text/x-python",
   "name": "python",
   "nbconvert_exporter": "python",
   "pygments_lexer": "ipython3",
   "version": "3.12.2"
  }
 },
 "nbformat": 4,
 "nbformat_minor": 5
}
